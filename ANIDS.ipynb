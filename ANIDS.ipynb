{
  "nbformat": 4,
  "nbformat_minor": 0,
  "metadata": {
    "colab": {
      "provenance": [],
      "authorship_tag": "ABX9TyM4EMO7C1376LKxFecq13Tb",
      "include_colab_link": true
    },
    "kernelspec": {
      "name": "python3",
      "display_name": "Python 3"
    },
    "language_info": {
      "name": "python"
    }
  },
  "cells": [
    {
      "cell_type": "markdown",
      "metadata": {
        "id": "view-in-github",
        "colab_type": "text"
      },
      "source": [
        "<a href=\"https://colab.research.google.com/github/rosangithub/ANIDS/blob/main/ANIDS.ipynb\" target=\"_parent\"><img src=\"https://colab.research.google.com/assets/colab-badge.svg\" alt=\"Open In Colab\"/></a>"
      ]
    },
    {
      "cell_type": "markdown",
      "source": [
        "Anomaly Based Network Intrusion Detection System using Ensemble Machine learning\n"
      ],
      "metadata": {
        "id": "CZGZ_2Tob32K"
      }
    },
    {
      "cell_type": "code",
      "source": [
        "import numpy as np#linear algebra\n",
        "import pandas as pd#data preprocessing,CSV files\n",
        "import pickle#saving and loading trained model\n",
        "from os import path\n",
        "#importing required library"
      ],
      "metadata": {
        "id": "_M4ntb-DbiaC"
      },
      "execution_count": null,
      "outputs": []
    }
  ]
}