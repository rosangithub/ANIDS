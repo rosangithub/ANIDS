{
  "cells": [
    {
      "cell_type": "markdown",
      "metadata": {
        "id": "view-in-github",
        "colab_type": "text"
      },
      "source": [
        "<a href=\"https://colab.research.google.com/github/rosangithub/ANIDS/blob/branch1/ANIDS.ipynb\" target=\"_parent\"><img src=\"https://colab.research.google.com/assets/colab-badge.svg\" alt=\"Open In Colab\"/></a>"
      ]
    },
    {
      "cell_type": "markdown",
      "metadata": {
        "id": "CZGZ_2Tob32K"
      },
      "source": [
        "# Anomaly Based Network Intrusion Detection System using Ensemble Machine learning\n"
      ]
    },
    {
      "cell_type": "code",
      "execution_count": 199,
      "metadata": {
        "id": "ZDF0E1XM0sUU"
      },
      "outputs": [],
      "source": [
        "# # 1️⃣ Mount Google Drive\n",
        "# from google.colab import drive\n",
        "# drive.mount('/content/drive')"
      ]
    },
    {
      "cell_type": "code",
      "source": [],
      "metadata": {
        "id": "AXCq69MDVk9m"
      },
      "execution_count": 199,
      "outputs": []
    },
    {
      "cell_type": "code",
      "execution_count": 200,
      "metadata": {
        "id": "_M4ntb-DbiaC"
      },
      "outputs": [],
      "source": [
        "import numpy as np#linear algebra\n",
        "import pandas as pd#data preprocessing,CSV files\n",
        "import pickle#saving and loading trained model\n",
        "from os import path\n",
        "#importing required libraries for normalizing data\n",
        "from sklearn import preprocessing\n",
        "from sklearn.preprocessing import(StandardScaler,OrdinalEncoder,LabelEncoder,MinMaxScaler,OneHotEncoder)\n",
        "from sklearn.feature_extraction.text import CountVectorizer\n",
        "from sklearn.preprocessing import Normalizer,MaxAbsScaler,RobustScaler,PowerTransformer\n",
        "#importing library for plotting\n",
        "import matplotlib.pyplot as plt\n",
        "import seaborn as sns\n",
        "import os"
      ]
    },
    {
      "cell_type": "code",
      "execution_count": 201,
      "metadata": {
        "colab": {
          "base_uri": "https://localhost:8080/",
          "height": 307
        },
        "id": "dd27BUOgfq37",
        "outputId": "ab2c771b-748b-4105-f3e1-7c2a694e8305"
      },
      "outputs": [
        {
          "output_type": "execute_result",
          "data": {
            "text/plain": [
              "    Destination Port   Flow Duration   Total Fwd Packets  \\\n",
              "0                 80           38308                   1   \n",
              "1                389             479                  11   \n",
              "2                 88            1095                  10   \n",
              "3                389           15206                  17   \n",
              "4                 88            1092                   9   \n",
              "\n",
              "    Total Backward Packets  Total Length of Fwd Packets  \\\n",
              "0                        1                            6   \n",
              "1                        5                          172   \n",
              "2                        6                         3150   \n",
              "3                       12                         3452   \n",
              "4                        6                         3150   \n",
              "\n",
              "    Total Length of Bwd Packets   Fwd Packet Length Max  \\\n",
              "0                             6                       6   \n",
              "1                           326                      79   \n",
              "2                          3150                    1575   \n",
              "3                          6660                    1313   \n",
              "4                          3152                    1575   \n",
              "\n",
              "    Fwd Packet Length Min   Fwd Packet Length Mean   Fwd Packet Length Std  \\\n",
              "0                       6                 6.000000                0.000000   \n",
              "1                       0                15.636364               31.449238   \n",
              "2                       0               315.000000              632.561635   \n",
              "3                       0               203.058823              425.778474   \n",
              "4                       0               350.000000              694.509719   \n",
              "\n",
              "   ...   min_seg_size_forward  Active Mean   Active Std   Active Max  \\\n",
              "0  ...                     20          0.0          0.0            0   \n",
              "1  ...                     32          0.0          0.0            0   \n",
              "2  ...                     32          0.0          0.0            0   \n",
              "3  ...                     32          0.0          0.0            0   \n",
              "4  ...                     32          0.0          0.0            0   \n",
              "\n",
              "    Active Min  Idle Mean   Idle Std   Idle Max   Idle Min   Label  \n",
              "0            0        0.0        0.0          0          0  BENIGN  \n",
              "1            0        0.0        0.0          0          0  BENIGN  \n",
              "2            0        0.0        0.0          0          0  BENIGN  \n",
              "3            0        0.0        0.0          0          0  BENIGN  \n",
              "4            0        0.0        0.0          0          0  BENIGN  \n",
              "\n",
              "[5 rows x 79 columns]"
            ],
            "text/html": [
              "\n",
              "  <div id=\"df-d3e45290-82c3-4b61-89ea-a2bbe2fabec2\" class=\"colab-df-container\">\n",
              "    <div>\n",
              "<style scoped>\n",
              "    .dataframe tbody tr th:only-of-type {\n",
              "        vertical-align: middle;\n",
              "    }\n",
              "\n",
              "    .dataframe tbody tr th {\n",
              "        vertical-align: top;\n",
              "    }\n",
              "\n",
              "    .dataframe thead th {\n",
              "        text-align: right;\n",
              "    }\n",
              "</style>\n",
              "<table border=\"1\" class=\"dataframe\">\n",
              "  <thead>\n",
              "    <tr style=\"text-align: right;\">\n",
              "      <th></th>\n",
              "      <th>Destination Port</th>\n",
              "      <th>Flow Duration</th>\n",
              "      <th>Total Fwd Packets</th>\n",
              "      <th>Total Backward Packets</th>\n",
              "      <th>Total Length of Fwd Packets</th>\n",
              "      <th>Total Length of Bwd Packets</th>\n",
              "      <th>Fwd Packet Length Max</th>\n",
              "      <th>Fwd Packet Length Min</th>\n",
              "      <th>Fwd Packet Length Mean</th>\n",
              "      <th>Fwd Packet Length Std</th>\n",
              "      <th>...</th>\n",
              "      <th>min_seg_size_forward</th>\n",
              "      <th>Active Mean</th>\n",
              "      <th>Active Std</th>\n",
              "      <th>Active Max</th>\n",
              "      <th>Active Min</th>\n",
              "      <th>Idle Mean</th>\n",
              "      <th>Idle Std</th>\n",
              "      <th>Idle Max</th>\n",
              "      <th>Idle Min</th>\n",
              "      <th>Label</th>\n",
              "    </tr>\n",
              "  </thead>\n",
              "  <tbody>\n",
              "    <tr>\n",
              "      <th>0</th>\n",
              "      <td>80</td>\n",
              "      <td>38308</td>\n",
              "      <td>1</td>\n",
              "      <td>1</td>\n",
              "      <td>6</td>\n",
              "      <td>6</td>\n",
              "      <td>6</td>\n",
              "      <td>6</td>\n",
              "      <td>6.000000</td>\n",
              "      <td>0.000000</td>\n",
              "      <td>...</td>\n",
              "      <td>20</td>\n",
              "      <td>0.0</td>\n",
              "      <td>0.0</td>\n",
              "      <td>0</td>\n",
              "      <td>0</td>\n",
              "      <td>0.0</td>\n",
              "      <td>0.0</td>\n",
              "      <td>0</td>\n",
              "      <td>0</td>\n",
              "      <td>BENIGN</td>\n",
              "    </tr>\n",
              "    <tr>\n",
              "      <th>1</th>\n",
              "      <td>389</td>\n",
              "      <td>479</td>\n",
              "      <td>11</td>\n",
              "      <td>5</td>\n",
              "      <td>172</td>\n",
              "      <td>326</td>\n",
              "      <td>79</td>\n",
              "      <td>0</td>\n",
              "      <td>15.636364</td>\n",
              "      <td>31.449238</td>\n",
              "      <td>...</td>\n",
              "      <td>32</td>\n",
              "      <td>0.0</td>\n",
              "      <td>0.0</td>\n",
              "      <td>0</td>\n",
              "      <td>0</td>\n",
              "      <td>0.0</td>\n",
              "      <td>0.0</td>\n",
              "      <td>0</td>\n",
              "      <td>0</td>\n",
              "      <td>BENIGN</td>\n",
              "    </tr>\n",
              "    <tr>\n",
              "      <th>2</th>\n",
              "      <td>88</td>\n",
              "      <td>1095</td>\n",
              "      <td>10</td>\n",
              "      <td>6</td>\n",
              "      <td>3150</td>\n",
              "      <td>3150</td>\n",
              "      <td>1575</td>\n",
              "      <td>0</td>\n",
              "      <td>315.000000</td>\n",
              "      <td>632.561635</td>\n",
              "      <td>...</td>\n",
              "      <td>32</td>\n",
              "      <td>0.0</td>\n",
              "      <td>0.0</td>\n",
              "      <td>0</td>\n",
              "      <td>0</td>\n",
              "      <td>0.0</td>\n",
              "      <td>0.0</td>\n",
              "      <td>0</td>\n",
              "      <td>0</td>\n",
              "      <td>BENIGN</td>\n",
              "    </tr>\n",
              "    <tr>\n",
              "      <th>3</th>\n",
              "      <td>389</td>\n",
              "      <td>15206</td>\n",
              "      <td>17</td>\n",
              "      <td>12</td>\n",
              "      <td>3452</td>\n",
              "      <td>6660</td>\n",
              "      <td>1313</td>\n",
              "      <td>0</td>\n",
              "      <td>203.058823</td>\n",
              "      <td>425.778474</td>\n",
              "      <td>...</td>\n",
              "      <td>32</td>\n",
              "      <td>0.0</td>\n",
              "      <td>0.0</td>\n",
              "      <td>0</td>\n",
              "      <td>0</td>\n",
              "      <td>0.0</td>\n",
              "      <td>0.0</td>\n",
              "      <td>0</td>\n",
              "      <td>0</td>\n",
              "      <td>BENIGN</td>\n",
              "    </tr>\n",
              "    <tr>\n",
              "      <th>4</th>\n",
              "      <td>88</td>\n",
              "      <td>1092</td>\n",
              "      <td>9</td>\n",
              "      <td>6</td>\n",
              "      <td>3150</td>\n",
              "      <td>3152</td>\n",
              "      <td>1575</td>\n",
              "      <td>0</td>\n",
              "      <td>350.000000</td>\n",
              "      <td>694.509719</td>\n",
              "      <td>...</td>\n",
              "      <td>32</td>\n",
              "      <td>0.0</td>\n",
              "      <td>0.0</td>\n",
              "      <td>0</td>\n",
              "      <td>0</td>\n",
              "      <td>0.0</td>\n",
              "      <td>0.0</td>\n",
              "      <td>0</td>\n",
              "      <td>0</td>\n",
              "      <td>BENIGN</td>\n",
              "    </tr>\n",
              "  </tbody>\n",
              "</table>\n",
              "<p>5 rows × 79 columns</p>\n",
              "</div>\n",
              "    <div class=\"colab-df-buttons\">\n",
              "\n",
              "  <div class=\"colab-df-container\">\n",
              "    <button class=\"colab-df-convert\" onclick=\"convertToInteractive('df-d3e45290-82c3-4b61-89ea-a2bbe2fabec2')\"\n",
              "            title=\"Convert this dataframe to an interactive table.\"\n",
              "            style=\"display:none;\">\n",
              "\n",
              "  <svg xmlns=\"http://www.w3.org/2000/svg\" height=\"24px\" viewBox=\"0 -960 960 960\">\n",
              "    <path d=\"M120-120v-720h720v720H120Zm60-500h600v-160H180v160Zm220 220h160v-160H400v160Zm0 220h160v-160H400v160ZM180-400h160v-160H180v160Zm440 0h160v-160H620v160ZM180-180h160v-160H180v160Zm440 0h160v-160H620v160Z\"/>\n",
              "  </svg>\n",
              "    </button>\n",
              "\n",
              "  <style>\n",
              "    .colab-df-container {\n",
              "      display:flex;\n",
              "      gap: 12px;\n",
              "    }\n",
              "\n",
              "    .colab-df-convert {\n",
              "      background-color: #E8F0FE;\n",
              "      border: none;\n",
              "      border-radius: 50%;\n",
              "      cursor: pointer;\n",
              "      display: none;\n",
              "      fill: #1967D2;\n",
              "      height: 32px;\n",
              "      padding: 0 0 0 0;\n",
              "      width: 32px;\n",
              "    }\n",
              "\n",
              "    .colab-df-convert:hover {\n",
              "      background-color: #E2EBFA;\n",
              "      box-shadow: 0px 1px 2px rgba(60, 64, 67, 0.3), 0px 1px 3px 1px rgba(60, 64, 67, 0.15);\n",
              "      fill: #174EA6;\n",
              "    }\n",
              "\n",
              "    .colab-df-buttons div {\n",
              "      margin-bottom: 4px;\n",
              "    }\n",
              "\n",
              "    [theme=dark] .colab-df-convert {\n",
              "      background-color: #3B4455;\n",
              "      fill: #D2E3FC;\n",
              "    }\n",
              "\n",
              "    [theme=dark] .colab-df-convert:hover {\n",
              "      background-color: #434B5C;\n",
              "      box-shadow: 0px 1px 3px 1px rgba(0, 0, 0, 0.15);\n",
              "      filter: drop-shadow(0px 1px 2px rgba(0, 0, 0, 0.3));\n",
              "      fill: #FFFFFF;\n",
              "    }\n",
              "  </style>\n",
              "\n",
              "    <script>\n",
              "      const buttonEl =\n",
              "        document.querySelector('#df-d3e45290-82c3-4b61-89ea-a2bbe2fabec2 button.colab-df-convert');\n",
              "      buttonEl.style.display =\n",
              "        google.colab.kernel.accessAllowed ? 'block' : 'none';\n",
              "\n",
              "      async function convertToInteractive(key) {\n",
              "        const element = document.querySelector('#df-d3e45290-82c3-4b61-89ea-a2bbe2fabec2');\n",
              "        const dataTable =\n",
              "          await google.colab.kernel.invokeFunction('convertToInteractive',\n",
              "                                                    [key], {});\n",
              "        if (!dataTable) return;\n",
              "\n",
              "        const docLinkHtml = 'Like what you see? Visit the ' +\n",
              "          '<a target=\"_blank\" href=https://colab.research.google.com/notebooks/data_table.ipynb>data table notebook</a>'\n",
              "          + ' to learn more about interactive tables.';\n",
              "        element.innerHTML = '';\n",
              "        dataTable['output_type'] = 'display_data';\n",
              "        await google.colab.output.renderOutput(dataTable, element);\n",
              "        const docLink = document.createElement('div');\n",
              "        docLink.innerHTML = docLinkHtml;\n",
              "        element.appendChild(docLink);\n",
              "      }\n",
              "    </script>\n",
              "  </div>\n",
              "\n",
              "\n",
              "    <div id=\"df-306dc4bf-17a2-4bf7-a7ab-8276acce496a\">\n",
              "      <button class=\"colab-df-quickchart\" onclick=\"quickchart('df-306dc4bf-17a2-4bf7-a7ab-8276acce496a')\"\n",
              "                title=\"Suggest charts\"\n",
              "                style=\"display:none;\">\n",
              "\n",
              "<svg xmlns=\"http://www.w3.org/2000/svg\" height=\"24px\"viewBox=\"0 0 24 24\"\n",
              "     width=\"24px\">\n",
              "    <g>\n",
              "        <path d=\"M19 3H5c-1.1 0-2 .9-2 2v14c0 1.1.9 2 2 2h14c1.1 0 2-.9 2-2V5c0-1.1-.9-2-2-2zM9 17H7v-7h2v7zm4 0h-2V7h2v10zm4 0h-2v-4h2v4z\"/>\n",
              "    </g>\n",
              "</svg>\n",
              "      </button>\n",
              "\n",
              "<style>\n",
              "  .colab-df-quickchart {\n",
              "      --bg-color: #E8F0FE;\n",
              "      --fill-color: #1967D2;\n",
              "      --hover-bg-color: #E2EBFA;\n",
              "      --hover-fill-color: #174EA6;\n",
              "      --disabled-fill-color: #AAA;\n",
              "      --disabled-bg-color: #DDD;\n",
              "  }\n",
              "\n",
              "  [theme=dark] .colab-df-quickchart {\n",
              "      --bg-color: #3B4455;\n",
              "      --fill-color: #D2E3FC;\n",
              "      --hover-bg-color: #434B5C;\n",
              "      --hover-fill-color: #FFFFFF;\n",
              "      --disabled-bg-color: #3B4455;\n",
              "      --disabled-fill-color: #666;\n",
              "  }\n",
              "\n",
              "  .colab-df-quickchart {\n",
              "    background-color: var(--bg-color);\n",
              "    border: none;\n",
              "    border-radius: 50%;\n",
              "    cursor: pointer;\n",
              "    display: none;\n",
              "    fill: var(--fill-color);\n",
              "    height: 32px;\n",
              "    padding: 0;\n",
              "    width: 32px;\n",
              "  }\n",
              "\n",
              "  .colab-df-quickchart:hover {\n",
              "    background-color: var(--hover-bg-color);\n",
              "    box-shadow: 0 1px 2px rgba(60, 64, 67, 0.3), 0 1px 3px 1px rgba(60, 64, 67, 0.15);\n",
              "    fill: var(--button-hover-fill-color);\n",
              "  }\n",
              "\n",
              "  .colab-df-quickchart-complete:disabled,\n",
              "  .colab-df-quickchart-complete:disabled:hover {\n",
              "    background-color: var(--disabled-bg-color);\n",
              "    fill: var(--disabled-fill-color);\n",
              "    box-shadow: none;\n",
              "  }\n",
              "\n",
              "  .colab-df-spinner {\n",
              "    border: 2px solid var(--fill-color);\n",
              "    border-color: transparent;\n",
              "    border-bottom-color: var(--fill-color);\n",
              "    animation:\n",
              "      spin 1s steps(1) infinite;\n",
              "  }\n",
              "\n",
              "  @keyframes spin {\n",
              "    0% {\n",
              "      border-color: transparent;\n",
              "      border-bottom-color: var(--fill-color);\n",
              "      border-left-color: var(--fill-color);\n",
              "    }\n",
              "    20% {\n",
              "      border-color: transparent;\n",
              "      border-left-color: var(--fill-color);\n",
              "      border-top-color: var(--fill-color);\n",
              "    }\n",
              "    30% {\n",
              "      border-color: transparent;\n",
              "      border-left-color: var(--fill-color);\n",
              "      border-top-color: var(--fill-color);\n",
              "      border-right-color: var(--fill-color);\n",
              "    }\n",
              "    40% {\n",
              "      border-color: transparent;\n",
              "      border-right-color: var(--fill-color);\n",
              "      border-top-color: var(--fill-color);\n",
              "    }\n",
              "    60% {\n",
              "      border-color: transparent;\n",
              "      border-right-color: var(--fill-color);\n",
              "    }\n",
              "    80% {\n",
              "      border-color: transparent;\n",
              "      border-right-color: var(--fill-color);\n",
              "      border-bottom-color: var(--fill-color);\n",
              "    }\n",
              "    90% {\n",
              "      border-color: transparent;\n",
              "      border-bottom-color: var(--fill-color);\n",
              "    }\n",
              "  }\n",
              "</style>\n",
              "\n",
              "      <script>\n",
              "        async function quickchart(key) {\n",
              "          const quickchartButtonEl =\n",
              "            document.querySelector('#' + key + ' button');\n",
              "          quickchartButtonEl.disabled = true;  // To prevent multiple clicks.\n",
              "          quickchartButtonEl.classList.add('colab-df-spinner');\n",
              "          try {\n",
              "            const charts = await google.colab.kernel.invokeFunction(\n",
              "                'suggestCharts', [key], {});\n",
              "          } catch (error) {\n",
              "            console.error('Error during call to suggestCharts:', error);\n",
              "          }\n",
              "          quickchartButtonEl.classList.remove('colab-df-spinner');\n",
              "          quickchartButtonEl.classList.add('colab-df-quickchart-complete');\n",
              "        }\n",
              "        (() => {\n",
              "          let quickchartButtonEl =\n",
              "            document.querySelector('#df-306dc4bf-17a2-4bf7-a7ab-8276acce496a button');\n",
              "          quickchartButtonEl.style.display =\n",
              "            google.colab.kernel.accessAllowed ? 'block' : 'none';\n",
              "        })();\n",
              "      </script>\n",
              "    </div>\n",
              "\n",
              "    </div>\n",
              "  </div>\n"
            ],
            "application/vnd.google.colaboratory.intrinsic+json": {
              "type": "dataframe",
              "variable_name": "df"
            }
          },
          "metadata": {},
          "execution_count": 201
        }
      ],
      "source": [
        "import glob\n",
        "#path to your folder containing csv files\n",
        "folder_path=\"/content/drive/MyDrive/data/raw/\"\n",
        "#get  a list of all csv files in the folder\n",
        "csv_files=glob.glob(folder_path + \"*.csv\")\n",
        "#Read all the csv files and combine them into one dataframe\n",
        "df_list=(pd.read_csv(file) for file in csv_files)\n",
        "df=pd.concat(df_list,ignore_index=True)\n",
        "df.head()"
      ]
    },
    {
      "cell_type": "code",
      "execution_count": 202,
      "metadata": {
        "colab": {
          "base_uri": "https://localhost:8080/"
        },
        "id": "jGL2xozQgf-7",
        "outputId": "cd003ae4-0532-4014-a9f9-d9134f64b993"
      },
      "outputs": [
        {
          "output_type": "stream",
          "name": "stdout",
          "text": [
            "Rows:2830743,Columns: 79\n"
          ]
        }
      ],
      "source": [
        "#display the shape and the find the concatinated dataframe\n",
        "nRow,nCol=df.shape\n",
        "print(f\"Rows:{nRow},Columns: {nCol}\")\n"
      ]
    },
    {
      "cell_type": "code",
      "execution_count": 203,
      "metadata": {
        "colab": {
          "base_uri": "https://localhost:8080/",
          "height": 307
        },
        "id": "4wNKapnple6y",
        "outputId": "4fa4bd74-99ce-4214-aa9b-61a98d9bbdb6"
      },
      "outputs": [
        {
          "output_type": "execute_result",
          "data": {
            "text/plain": [
              "    Destination Port   Flow Duration   Total Fwd Packets  \\\n",
              "0                 80           38308                   1   \n",
              "1                389             479                  11   \n",
              "2                 88            1095                  10   \n",
              "3                389           15206                  17   \n",
              "4                 88            1092                   9   \n",
              "\n",
              "    Total Backward Packets  Total Length of Fwd Packets  \\\n",
              "0                        1                            6   \n",
              "1                        5                          172   \n",
              "2                        6                         3150   \n",
              "3                       12                         3452   \n",
              "4                        6                         3150   \n",
              "\n",
              "    Total Length of Bwd Packets   Fwd Packet Length Max  \\\n",
              "0                             6                       6   \n",
              "1                           326                      79   \n",
              "2                          3150                    1575   \n",
              "3                          6660                    1313   \n",
              "4                          3152                    1575   \n",
              "\n",
              "    Fwd Packet Length Min   Fwd Packet Length Mean   Fwd Packet Length Std  \\\n",
              "0                       6                 6.000000                0.000000   \n",
              "1                       0                15.636364               31.449238   \n",
              "2                       0               315.000000              632.561635   \n",
              "3                       0               203.058823              425.778474   \n",
              "4                       0               350.000000              694.509719   \n",
              "\n",
              "   ...   min_seg_size_forward  Active Mean   Active Std   Active Max  \\\n",
              "0  ...                     20          0.0          0.0            0   \n",
              "1  ...                     32          0.0          0.0            0   \n",
              "2  ...                     32          0.0          0.0            0   \n",
              "3  ...                     32          0.0          0.0            0   \n",
              "4  ...                     32          0.0          0.0            0   \n",
              "\n",
              "    Active Min  Idle Mean   Idle Std   Idle Max   Idle Min   Label  \n",
              "0            0        0.0        0.0          0          0  BENIGN  \n",
              "1            0        0.0        0.0          0          0  BENIGN  \n",
              "2            0        0.0        0.0          0          0  BENIGN  \n",
              "3            0        0.0        0.0          0          0  BENIGN  \n",
              "4            0        0.0        0.0          0          0  BENIGN  \n",
              "\n",
              "[5 rows x 79 columns]"
            ],
            "text/html": [
              "\n",
              "  <div id=\"df-a6922ecb-3d15-4043-aedf-e5e7bb4adba5\" class=\"colab-df-container\">\n",
              "    <div>\n",
              "<style scoped>\n",
              "    .dataframe tbody tr th:only-of-type {\n",
              "        vertical-align: middle;\n",
              "    }\n",
              "\n",
              "    .dataframe tbody tr th {\n",
              "        vertical-align: top;\n",
              "    }\n",
              "\n",
              "    .dataframe thead th {\n",
              "        text-align: right;\n",
              "    }\n",
              "</style>\n",
              "<table border=\"1\" class=\"dataframe\">\n",
              "  <thead>\n",
              "    <tr style=\"text-align: right;\">\n",
              "      <th></th>\n",
              "      <th>Destination Port</th>\n",
              "      <th>Flow Duration</th>\n",
              "      <th>Total Fwd Packets</th>\n",
              "      <th>Total Backward Packets</th>\n",
              "      <th>Total Length of Fwd Packets</th>\n",
              "      <th>Total Length of Bwd Packets</th>\n",
              "      <th>Fwd Packet Length Max</th>\n",
              "      <th>Fwd Packet Length Min</th>\n",
              "      <th>Fwd Packet Length Mean</th>\n",
              "      <th>Fwd Packet Length Std</th>\n",
              "      <th>...</th>\n",
              "      <th>min_seg_size_forward</th>\n",
              "      <th>Active Mean</th>\n",
              "      <th>Active Std</th>\n",
              "      <th>Active Max</th>\n",
              "      <th>Active Min</th>\n",
              "      <th>Idle Mean</th>\n",
              "      <th>Idle Std</th>\n",
              "      <th>Idle Max</th>\n",
              "      <th>Idle Min</th>\n",
              "      <th>Label</th>\n",
              "    </tr>\n",
              "  </thead>\n",
              "  <tbody>\n",
              "    <tr>\n",
              "      <th>0</th>\n",
              "      <td>80</td>\n",
              "      <td>38308</td>\n",
              "      <td>1</td>\n",
              "      <td>1</td>\n",
              "      <td>6</td>\n",
              "      <td>6</td>\n",
              "      <td>6</td>\n",
              "      <td>6</td>\n",
              "      <td>6.000000</td>\n",
              "      <td>0.000000</td>\n",
              "      <td>...</td>\n",
              "      <td>20</td>\n",
              "      <td>0.0</td>\n",
              "      <td>0.0</td>\n",
              "      <td>0</td>\n",
              "      <td>0</td>\n",
              "      <td>0.0</td>\n",
              "      <td>0.0</td>\n",
              "      <td>0</td>\n",
              "      <td>0</td>\n",
              "      <td>BENIGN</td>\n",
              "    </tr>\n",
              "    <tr>\n",
              "      <th>1</th>\n",
              "      <td>389</td>\n",
              "      <td>479</td>\n",
              "      <td>11</td>\n",
              "      <td>5</td>\n",
              "      <td>172</td>\n",
              "      <td>326</td>\n",
              "      <td>79</td>\n",
              "      <td>0</td>\n",
              "      <td>15.636364</td>\n",
              "      <td>31.449238</td>\n",
              "      <td>...</td>\n",
              "      <td>32</td>\n",
              "      <td>0.0</td>\n",
              "      <td>0.0</td>\n",
              "      <td>0</td>\n",
              "      <td>0</td>\n",
              "      <td>0.0</td>\n",
              "      <td>0.0</td>\n",
              "      <td>0</td>\n",
              "      <td>0</td>\n",
              "      <td>BENIGN</td>\n",
              "    </tr>\n",
              "    <tr>\n",
              "      <th>2</th>\n",
              "      <td>88</td>\n",
              "      <td>1095</td>\n",
              "      <td>10</td>\n",
              "      <td>6</td>\n",
              "      <td>3150</td>\n",
              "      <td>3150</td>\n",
              "      <td>1575</td>\n",
              "      <td>0</td>\n",
              "      <td>315.000000</td>\n",
              "      <td>632.561635</td>\n",
              "      <td>...</td>\n",
              "      <td>32</td>\n",
              "      <td>0.0</td>\n",
              "      <td>0.0</td>\n",
              "      <td>0</td>\n",
              "      <td>0</td>\n",
              "      <td>0.0</td>\n",
              "      <td>0.0</td>\n",
              "      <td>0</td>\n",
              "      <td>0</td>\n",
              "      <td>BENIGN</td>\n",
              "    </tr>\n",
              "    <tr>\n",
              "      <th>3</th>\n",
              "      <td>389</td>\n",
              "      <td>15206</td>\n",
              "      <td>17</td>\n",
              "      <td>12</td>\n",
              "      <td>3452</td>\n",
              "      <td>6660</td>\n",
              "      <td>1313</td>\n",
              "      <td>0</td>\n",
              "      <td>203.058823</td>\n",
              "      <td>425.778474</td>\n",
              "      <td>...</td>\n",
              "      <td>32</td>\n",
              "      <td>0.0</td>\n",
              "      <td>0.0</td>\n",
              "      <td>0</td>\n",
              "      <td>0</td>\n",
              "      <td>0.0</td>\n",
              "      <td>0.0</td>\n",
              "      <td>0</td>\n",
              "      <td>0</td>\n",
              "      <td>BENIGN</td>\n",
              "    </tr>\n",
              "    <tr>\n",
              "      <th>4</th>\n",
              "      <td>88</td>\n",
              "      <td>1092</td>\n",
              "      <td>9</td>\n",
              "      <td>6</td>\n",
              "      <td>3150</td>\n",
              "      <td>3152</td>\n",
              "      <td>1575</td>\n",
              "      <td>0</td>\n",
              "      <td>350.000000</td>\n",
              "      <td>694.509719</td>\n",
              "      <td>...</td>\n",
              "      <td>32</td>\n",
              "      <td>0.0</td>\n",
              "      <td>0.0</td>\n",
              "      <td>0</td>\n",
              "      <td>0</td>\n",
              "      <td>0.0</td>\n",
              "      <td>0.0</td>\n",
              "      <td>0</td>\n",
              "      <td>0</td>\n",
              "      <td>BENIGN</td>\n",
              "    </tr>\n",
              "  </tbody>\n",
              "</table>\n",
              "<p>5 rows × 79 columns</p>\n",
              "</div>\n",
              "    <div class=\"colab-df-buttons\">\n",
              "\n",
              "  <div class=\"colab-df-container\">\n",
              "    <button class=\"colab-df-convert\" onclick=\"convertToInteractive('df-a6922ecb-3d15-4043-aedf-e5e7bb4adba5')\"\n",
              "            title=\"Convert this dataframe to an interactive table.\"\n",
              "            style=\"display:none;\">\n",
              "\n",
              "  <svg xmlns=\"http://www.w3.org/2000/svg\" height=\"24px\" viewBox=\"0 -960 960 960\">\n",
              "    <path d=\"M120-120v-720h720v720H120Zm60-500h600v-160H180v160Zm220 220h160v-160H400v160Zm0 220h160v-160H400v160ZM180-400h160v-160H180v160Zm440 0h160v-160H620v160ZM180-180h160v-160H180v160Zm440 0h160v-160H620v160Z\"/>\n",
              "  </svg>\n",
              "    </button>\n",
              "\n",
              "  <style>\n",
              "    .colab-df-container {\n",
              "      display:flex;\n",
              "      gap: 12px;\n",
              "    }\n",
              "\n",
              "    .colab-df-convert {\n",
              "      background-color: #E8F0FE;\n",
              "      border: none;\n",
              "      border-radius: 50%;\n",
              "      cursor: pointer;\n",
              "      display: none;\n",
              "      fill: #1967D2;\n",
              "      height: 32px;\n",
              "      padding: 0 0 0 0;\n",
              "      width: 32px;\n",
              "    }\n",
              "\n",
              "    .colab-df-convert:hover {\n",
              "      background-color: #E2EBFA;\n",
              "      box-shadow: 0px 1px 2px rgba(60, 64, 67, 0.3), 0px 1px 3px 1px rgba(60, 64, 67, 0.15);\n",
              "      fill: #174EA6;\n",
              "    }\n",
              "\n",
              "    .colab-df-buttons div {\n",
              "      margin-bottom: 4px;\n",
              "    }\n",
              "\n",
              "    [theme=dark] .colab-df-convert {\n",
              "      background-color: #3B4455;\n",
              "      fill: #D2E3FC;\n",
              "    }\n",
              "\n",
              "    [theme=dark] .colab-df-convert:hover {\n",
              "      background-color: #434B5C;\n",
              "      box-shadow: 0px 1px 3px 1px rgba(0, 0, 0, 0.15);\n",
              "      filter: drop-shadow(0px 1px 2px rgba(0, 0, 0, 0.3));\n",
              "      fill: #FFFFFF;\n",
              "    }\n",
              "  </style>\n",
              "\n",
              "    <script>\n",
              "      const buttonEl =\n",
              "        document.querySelector('#df-a6922ecb-3d15-4043-aedf-e5e7bb4adba5 button.colab-df-convert');\n",
              "      buttonEl.style.display =\n",
              "        google.colab.kernel.accessAllowed ? 'block' : 'none';\n",
              "\n",
              "      async function convertToInteractive(key) {\n",
              "        const element = document.querySelector('#df-a6922ecb-3d15-4043-aedf-e5e7bb4adba5');\n",
              "        const dataTable =\n",
              "          await google.colab.kernel.invokeFunction('convertToInteractive',\n",
              "                                                    [key], {});\n",
              "        if (!dataTable) return;\n",
              "\n",
              "        const docLinkHtml = 'Like what you see? Visit the ' +\n",
              "          '<a target=\"_blank\" href=https://colab.research.google.com/notebooks/data_table.ipynb>data table notebook</a>'\n",
              "          + ' to learn more about interactive tables.';\n",
              "        element.innerHTML = '';\n",
              "        dataTable['output_type'] = 'display_data';\n",
              "        await google.colab.output.renderOutput(dataTable, element);\n",
              "        const docLink = document.createElement('div');\n",
              "        docLink.innerHTML = docLinkHtml;\n",
              "        element.appendChild(docLink);\n",
              "      }\n",
              "    </script>\n",
              "  </div>\n",
              "\n",
              "\n",
              "    <div id=\"df-4713f259-a3ea-4c08-a20d-72ad32e40155\">\n",
              "      <button class=\"colab-df-quickchart\" onclick=\"quickchart('df-4713f259-a3ea-4c08-a20d-72ad32e40155')\"\n",
              "                title=\"Suggest charts\"\n",
              "                style=\"display:none;\">\n",
              "\n",
              "<svg xmlns=\"http://www.w3.org/2000/svg\" height=\"24px\"viewBox=\"0 0 24 24\"\n",
              "     width=\"24px\">\n",
              "    <g>\n",
              "        <path d=\"M19 3H5c-1.1 0-2 .9-2 2v14c0 1.1.9 2 2 2h14c1.1 0 2-.9 2-2V5c0-1.1-.9-2-2-2zM9 17H7v-7h2v7zm4 0h-2V7h2v10zm4 0h-2v-4h2v4z\"/>\n",
              "    </g>\n",
              "</svg>\n",
              "      </button>\n",
              "\n",
              "<style>\n",
              "  .colab-df-quickchart {\n",
              "      --bg-color: #E8F0FE;\n",
              "      --fill-color: #1967D2;\n",
              "      --hover-bg-color: #E2EBFA;\n",
              "      --hover-fill-color: #174EA6;\n",
              "      --disabled-fill-color: #AAA;\n",
              "      --disabled-bg-color: #DDD;\n",
              "  }\n",
              "\n",
              "  [theme=dark] .colab-df-quickchart {\n",
              "      --bg-color: #3B4455;\n",
              "      --fill-color: #D2E3FC;\n",
              "      --hover-bg-color: #434B5C;\n",
              "      --hover-fill-color: #FFFFFF;\n",
              "      --disabled-bg-color: #3B4455;\n",
              "      --disabled-fill-color: #666;\n",
              "  }\n",
              "\n",
              "  .colab-df-quickchart {\n",
              "    background-color: var(--bg-color);\n",
              "    border: none;\n",
              "    border-radius: 50%;\n",
              "    cursor: pointer;\n",
              "    display: none;\n",
              "    fill: var(--fill-color);\n",
              "    height: 32px;\n",
              "    padding: 0;\n",
              "    width: 32px;\n",
              "  }\n",
              "\n",
              "  .colab-df-quickchart:hover {\n",
              "    background-color: var(--hover-bg-color);\n",
              "    box-shadow: 0 1px 2px rgba(60, 64, 67, 0.3), 0 1px 3px 1px rgba(60, 64, 67, 0.15);\n",
              "    fill: var(--button-hover-fill-color);\n",
              "  }\n",
              "\n",
              "  .colab-df-quickchart-complete:disabled,\n",
              "  .colab-df-quickchart-complete:disabled:hover {\n",
              "    background-color: var(--disabled-bg-color);\n",
              "    fill: var(--disabled-fill-color);\n",
              "    box-shadow: none;\n",
              "  }\n",
              "\n",
              "  .colab-df-spinner {\n",
              "    border: 2px solid var(--fill-color);\n",
              "    border-color: transparent;\n",
              "    border-bottom-color: var(--fill-color);\n",
              "    animation:\n",
              "      spin 1s steps(1) infinite;\n",
              "  }\n",
              "\n",
              "  @keyframes spin {\n",
              "    0% {\n",
              "      border-color: transparent;\n",
              "      border-bottom-color: var(--fill-color);\n",
              "      border-left-color: var(--fill-color);\n",
              "    }\n",
              "    20% {\n",
              "      border-color: transparent;\n",
              "      border-left-color: var(--fill-color);\n",
              "      border-top-color: var(--fill-color);\n",
              "    }\n",
              "    30% {\n",
              "      border-color: transparent;\n",
              "      border-left-color: var(--fill-color);\n",
              "      border-top-color: var(--fill-color);\n",
              "      border-right-color: var(--fill-color);\n",
              "    }\n",
              "    40% {\n",
              "      border-color: transparent;\n",
              "      border-right-color: var(--fill-color);\n",
              "      border-top-color: var(--fill-color);\n",
              "    }\n",
              "    60% {\n",
              "      border-color: transparent;\n",
              "      border-right-color: var(--fill-color);\n",
              "    }\n",
              "    80% {\n",
              "      border-color: transparent;\n",
              "      border-right-color: var(--fill-color);\n",
              "      border-bottom-color: var(--fill-color);\n",
              "    }\n",
              "    90% {\n",
              "      border-color: transparent;\n",
              "      border-bottom-color: var(--fill-color);\n",
              "    }\n",
              "  }\n",
              "</style>\n",
              "\n",
              "      <script>\n",
              "        async function quickchart(key) {\n",
              "          const quickchartButtonEl =\n",
              "            document.querySelector('#' + key + ' button');\n",
              "          quickchartButtonEl.disabled = true;  // To prevent multiple clicks.\n",
              "          quickchartButtonEl.classList.add('colab-df-spinner');\n",
              "          try {\n",
              "            const charts = await google.colab.kernel.invokeFunction(\n",
              "                'suggestCharts', [key], {});\n",
              "          } catch (error) {\n",
              "            console.error('Error during call to suggestCharts:', error);\n",
              "          }\n",
              "          quickchartButtonEl.classList.remove('colab-df-spinner');\n",
              "          quickchartButtonEl.classList.add('colab-df-quickchart-complete');\n",
              "        }\n",
              "        (() => {\n",
              "          let quickchartButtonEl =\n",
              "            document.querySelector('#df-4713f259-a3ea-4c08-a20d-72ad32e40155 button');\n",
              "          quickchartButtonEl.style.display =\n",
              "            google.colab.kernel.accessAllowed ? 'block' : 'none';\n",
              "        })();\n",
              "      </script>\n",
              "    </div>\n",
              "\n",
              "    </div>\n",
              "  </div>\n"
            ],
            "application/vnd.google.colaboratory.intrinsic+json": {
              "type": "dataframe",
              "variable_name": "df"
            }
          },
          "metadata": {},
          "execution_count": 203
        }
      ],
      "source": [
        "df.head()"
      ]
    },
    {
      "cell_type": "markdown",
      "source": [
        "# Preliminary data analysis\n",
        "\n",
        "Some general info about the dataset. It contains roughly 2.5 million records across 79 columns. Data consists of mostly int64 and float64 types, except 3 attributes of 'object' type.\n",
        "\n",
        "Dataset contains of network traffic data during different attacks, represented with values like: port numbers, IP adressses, packet lenghts, SYN/ACK/FIN/.. flag counts, packet size and other...\n"
      ],
      "metadata": {
        "id": "0nosKGvhWC00"
      }
    },
    {
      "cell_type": "code",
      "execution_count": 204,
      "metadata": {
        "colab": {
          "base_uri": "https://localhost:8080/"
        },
        "id": "qhWoAemVmXvq",
        "outputId": "75683d12-a7aa-4cf5-a5bb-bda27c96f30f"
      },
      "outputs": [
        {
          "output_type": "stream",
          "name": "stdout",
          "text": [
            "<class 'pandas.core.frame.DataFrame'>\n",
            "RangeIndex: 2830743 entries, 0 to 2830742\n",
            "Data columns (total 79 columns):\n",
            " #   Column                        Dtype  \n",
            "---  ------                        -----  \n",
            " 0    Destination Port             int64  \n",
            " 1    Flow Duration                int64  \n",
            " 2    Total Fwd Packets            int64  \n",
            " 3    Total Backward Packets       int64  \n",
            " 4   Total Length of Fwd Packets   int64  \n",
            " 5    Total Length of Bwd Packets  int64  \n",
            " 6    Fwd Packet Length Max        int64  \n",
            " 7    Fwd Packet Length Min        int64  \n",
            " 8    Fwd Packet Length Mean       float64\n",
            " 9    Fwd Packet Length Std        float64\n",
            " 10  Bwd Packet Length Max         int64  \n",
            " 11   Bwd Packet Length Min        int64  \n",
            " 12   Bwd Packet Length Mean       float64\n",
            " 13   Bwd Packet Length Std        float64\n",
            " 14  Flow Bytes/s                  float64\n",
            " 15   Flow Packets/s               float64\n",
            " 16   Flow IAT Mean                float64\n",
            " 17   Flow IAT Std                 float64\n",
            " 18   Flow IAT Max                 int64  \n",
            " 19   Flow IAT Min                 int64  \n",
            " 20  Fwd IAT Total                 int64  \n",
            " 21   Fwd IAT Mean                 float64\n",
            " 22   Fwd IAT Std                  float64\n",
            " 23   Fwd IAT Max                  int64  \n",
            " 24   Fwd IAT Min                  int64  \n",
            " 25  Bwd IAT Total                 int64  \n",
            " 26   Bwd IAT Mean                 float64\n",
            " 27   Bwd IAT Std                  float64\n",
            " 28   Bwd IAT Max                  int64  \n",
            " 29   Bwd IAT Min                  int64  \n",
            " 30  Fwd PSH Flags                 int64  \n",
            " 31   Bwd PSH Flags                int64  \n",
            " 32   Fwd URG Flags                int64  \n",
            " 33   Bwd URG Flags                int64  \n",
            " 34   Fwd Header Length            int64  \n",
            " 35   Bwd Header Length            int64  \n",
            " 36  Fwd Packets/s                 float64\n",
            " 37   Bwd Packets/s                float64\n",
            " 38   Min Packet Length            int64  \n",
            " 39   Max Packet Length            int64  \n",
            " 40   Packet Length Mean           float64\n",
            " 41   Packet Length Std            float64\n",
            " 42   Packet Length Variance       float64\n",
            " 43  FIN Flag Count                int64  \n",
            " 44   SYN Flag Count               int64  \n",
            " 45   RST Flag Count               int64  \n",
            " 46   PSH Flag Count               int64  \n",
            " 47   ACK Flag Count               int64  \n",
            " 48   URG Flag Count               int64  \n",
            " 49   CWE Flag Count               int64  \n",
            " 50   ECE Flag Count               int64  \n",
            " 51   Down/Up Ratio                int64  \n",
            " 52   Average Packet Size          float64\n",
            " 53   Avg Fwd Segment Size         float64\n",
            " 54   Avg Bwd Segment Size         float64\n",
            " 55   Fwd Header Length.1          int64  \n",
            " 56  Fwd Avg Bytes/Bulk            int64  \n",
            " 57   Fwd Avg Packets/Bulk         int64  \n",
            " 58   Fwd Avg Bulk Rate            int64  \n",
            " 59   Bwd Avg Bytes/Bulk           int64  \n",
            " 60   Bwd Avg Packets/Bulk         int64  \n",
            " 61  Bwd Avg Bulk Rate             int64  \n",
            " 62  Subflow Fwd Packets           int64  \n",
            " 63   Subflow Fwd Bytes            int64  \n",
            " 64   Subflow Bwd Packets          int64  \n",
            " 65   Subflow Bwd Bytes            int64  \n",
            " 66  Init_Win_bytes_forward        int64  \n",
            " 67   Init_Win_bytes_backward      int64  \n",
            " 68   act_data_pkt_fwd             int64  \n",
            " 69   min_seg_size_forward         int64  \n",
            " 70  Active Mean                   float64\n",
            " 71   Active Std                   float64\n",
            " 72   Active Max                   int64  \n",
            " 73   Active Min                   int64  \n",
            " 74  Idle Mean                     float64\n",
            " 75   Idle Std                     float64\n",
            " 76   Idle Max                     int64  \n",
            " 77   Idle Min                     int64  \n",
            " 78   Label                        object \n",
            "dtypes: float64(24), int64(54), object(1)\n",
            "memory usage: 1.7+ GB\n"
          ]
        }
      ],
      "source": [
        "df.info()"
      ]
    },
    {
      "cell_type": "code",
      "execution_count": null,
      "metadata": {
        "id": "zIg9q_k9mbHp"
      },
      "outputs": [],
      "source": [
        "df.describe()"
      ]
    },
    {
      "cell_type": "code",
      "execution_count": null,
      "metadata": {
        "id": "pYsrGx6Ampr5"
      },
      "outputs": [],
      "source": [
        "df.columns"
      ]
    },
    {
      "cell_type": "code",
      "source": [
        "\n",
        "# print(df['Label'].unique())\n",
        "# len(df['Label'].unique())"
      ],
      "metadata": {
        "id": "7ia4PE3SWfIm"
      },
      "execution_count": null,
      "outputs": []
    },
    {
      "cell_type": "code",
      "execution_count": null,
      "metadata": {
        "id": "AlQd0WwkmyP5"
      },
      "outputs": [],
      "source": [
        "df.columns=df.columns.str.strip()\n",
        "df['Label'].value_counts()"
      ]
    },
    {
      "cell_type": "code",
      "source": [
        "import seaborn as sns\n",
        "import matplotlib.pyplot as plt"
      ],
      "metadata": {
        "id": "4rV914SUXjku"
      },
      "execution_count": null,
      "outputs": []
    },
    {
      "cell_type": "code",
      "source": [
        "data=df['Label'].where(df['Label']!='BENIGN')"
      ],
      "metadata": {
        "id": "qKN9QUEdXqLV"
      },
      "execution_count": null,
      "outputs": []
    },
    {
      "cell_type": "code",
      "source": [
        "plt.figure(figsize=(15,6))\n",
        "chart=sns.countplot(x=data,palette=\"Set1\")\n",
        "chart.set_xticklabels(chart.get_xticklabels(),rotation=90)\n",
        "plt.show()"
      ],
      "metadata": {
        "id": "dAI5O2pMX-cV"
      },
      "execution_count": null,
      "outputs": []
    },
    {
      "cell_type": "markdown",
      "source": [
        "Most records in the dataset are of DDos and DOS Hulk attacks and portscan. This might pose a problem later in model training, considering that there is a very small amount of data for most attacks. Model selection will be greatly influenced by this information."
      ],
      "metadata": {
        "id": "Aw5f6iW0aeT0"
      }
    },
    {
      "cell_type": "markdown",
      "source": [
        "# Data Cleaning\n",
        "\n",
        "This chapter contains data cleaning code. We go through the process of renaming columns, removing NaN and non-finite values (-inf, inf) to get the data ready for visualization and model training."
      ],
      "metadata": {
        "id": "LxXfbHDtaQ5l"
      }
    },
    {
      "cell_type": "markdown",
      "source": [
        "## Renaming columns\n"
      ],
      "metadata": {
        "id": "Cm_1JlwBavG1"
      }
    },
    {
      "cell_type": "code",
      "source": [
        "# #remove the whitespace in the columns names\n",
        "# col_names=[col.replace(' ', '')for col in df.columns]\n",
        "# df.columns=col_names\n",
        "# df.head()"
      ],
      "metadata": {
        "id": "JGTXNqssaP8s"
      },
      "execution_count": null,
      "outputs": []
    },
    {
      "cell_type": "code",
      "source": [
        "df['Label'].unique()\n",
        "# here we can see that  'Label' columns contains the some wiered characters."
      ],
      "metadata": {
        "id": "8rePG8_baN2V"
      },
      "execution_count": null,
      "outputs": []
    },
    {
      "cell_type": "code",
      "source": [
        "# #this next snippet uses regular expressions to replace wierex character with dunder\n",
        "# label_names=df['Label'].unique()\n",
        "# import re\n",
        "\n",
        "# label_names = df['Label'].unique()\n",
        "\n",
        "# clean_labels = []\n",
        "# for l in label_names:\n",
        "#     # Replace non-alphanumeric characters with underscore\n",
        "#     l = re.sub(r'[^a-zA-Z0-9]+', '_', l)\n",
        "#     # Remove leading/trailing underscores\n",
        "#     l = l.strip('_')\n",
        "#     # Replace multiple consecutive underscores with single\n",
        "#     l = re.sub(r'_+', '_', l)\n",
        "#     clean_labels.append(l)\n",
        "\n",
        "# clean_labels, len(clean_labels)\n"
      ],
      "metadata": {
        "id": "HHb6r_80bi8w"
      },
      "execution_count": null,
      "outputs": []
    },
    {
      "cell_type": "code",
      "source": [
        "# #replacing 'Label' columns with new readable values.\n",
        "# labels=df['Label'].unique()\n",
        "# for i in range(0,len(clean_labels)):\n",
        "#   df['Label']=df['Label'].replace({labels[i]:clean_labels[i]})\n",
        "# df['Label'].unique()"
      ],
      "metadata": {
        "id": "-hSQLNdDeC5A"
      },
      "execution_count": null,
      "outputs": []
    },
    {
      "cell_type": "markdown",
      "source": [
        "# Remove the missing values NaN from the dataframe"
      ],
      "metadata": {
        "id": "J20iLDJJfsV9"
      }
    },
    {
      "cell_type": "code",
      "source": [
        "df.dropna(inplace=True)\n"
      ],
      "metadata": {
        "id": "SU2_2FfIBUdf"
      },
      "execution_count": null,
      "outputs": []
    },
    {
      "cell_type": "code",
      "source": [
        "df"
      ],
      "metadata": {
        "id": "8TEcIgbICAXn"
      },
      "execution_count": null,
      "outputs": []
    },
    {
      "cell_type": "code",
      "source": [
        "# #checking if there are any NULL value in dataset\n",
        "# df.isnull().values.any()"
      ],
      "metadata": {
        "id": "K7Zz_G5Ef3nU"
      },
      "execution_count": null,
      "outputs": []
    },
    {
      "cell_type": "code",
      "source": [],
      "metadata": {
        "id": "UqEpllvtBUKF"
      },
      "execution_count": null,
      "outputs": []
    },
    {
      "cell_type": "code",
      "source": [
        "# #checking which columns contains null values\n",
        "# [col for col in df if df[col].isnull().values.any()]"
      ],
      "metadata": {
        "id": "LQCqaG41gFUV"
      },
      "execution_count": null,
      "outputs": []
    },
    {
      "cell_type": "code",
      "source": [
        "# #checking how many null values it this coulumn contains\n",
        "# df['FlowBytes/s'].isnull().sum()"
      ],
      "metadata": {
        "id": "jcc_0jXlgSq3"
      },
      "execution_count": null,
      "outputs": []
    },
    {
      "cell_type": "code",
      "source": [
        "\n",
        "# # Considering that only 1358 rows contain NULL vlaues in the entire dataset, which makes about 0.047%, we\n",
        "# # can safely remove all NULL rows without spoiling the data.\n",
        "# 1358/df.shape[0]*100"
      ],
      "metadata": {
        "id": "AGmCl5m4go0s"
      },
      "execution_count": null,
      "outputs": []
    },
    {
      "cell_type": "code",
      "source": [
        "# # removing rows that contains NULL values and checking if numbers of removed rows is equal to  the number of the null values\n",
        "# before=df.shape\n",
        "# df.dropna(inplace=True)\n",
        "# dfter=df.shape\n",
        "# print(\"Number of rows removed:\",before[0]-dfter[0])"
      ],
      "metadata": {
        "id": "P6gIqVJ8fo3X"
      },
      "execution_count": null,
      "outputs": []
    },
    {
      "cell_type": "code",
      "source": [
        "# df.isnull().any().any()"
      ],
      "metadata": {
        "id": "_WdoNXmBhrZN"
      },
      "execution_count": null,
      "outputs": []
    },
    {
      "cell_type": "markdown",
      "source": [
        "# Removing non-infinite values\n"
      ],
      "metadata": {
        "id": "kv-612gThxs-"
      }
    },
    {
      "cell_type": "code",
      "source": [
        "# import numpy as np\n",
        "# #select all the columns except the label columns\n",
        "# labl=df['Label']\n",
        "# df=df.loc[:,df.columns != 'Label'].astype('float64')"
      ],
      "metadata": {
        "id": "q6Pssd7Hh4Od"
      },
      "execution_count": null,
      "outputs": []
    },
    {
      "cell_type": "code",
      "source": [
        "# #checking if all values are finite\n",
        "# np.all(np.isfinite(df))"
      ],
      "metadata": {
        "id": "4cGAybvWjQg9"
      },
      "execution_count": null,
      "outputs": []
    },
    {
      "cell_type": "code",
      "source": [
        "# #checking what columns contains nonfinite values\n",
        "# nonfinite=[col for col in df if not np.all(np.isfinite(df[col]))]\n",
        "# nonfinite"
      ],
      "metadata": {
        "id": "sVxw7bVvjYg1"
      },
      "execution_count": null,
      "outputs": []
    },
    {
      "cell_type": "code",
      "source": [
        "# #checking how many non fininte values each columns contains\n",
        "# finite=np.isfinite(df['FlowBytes/s']).sum()\n",
        "# df.shape[0]-finite"
      ],
      "metadata": {
        "id": "BGWQI6kFkVIA"
      },
      "execution_count": null,
      "outputs": []
    },
    {
      "cell_type": "code",
      "source": [
        "# #checking how maby non finite values each collumns contains\n",
        "# finite=np.isfinite(df['FlowPackets/s']).sum()\n",
        "# df.shape[0]-finite"
      ],
      "metadata": {
        "id": "HwXSZHhqk3yW"
      },
      "execution_count": null,
      "outputs": []
    },
    {
      "cell_type": "code",
      "source": [
        "# Same as before, since there is a small number of non-finite values we can safely remove them from the dataset\n",
        "# # without spoiling the dataset.\n",
        "\n",
        "# # Replacing infinite values with NaN values.\n",
        "# df=df.replace([np.inf,-np.inf],np.nan)"
      ],
      "metadata": {
        "id": "kASQmkmwlm5F"
      },
      "execution_count": null,
      "outputs": []
    },
    {
      "cell_type": "code",
      "source": [
        "# #we can see that now we have nan values again\n",
        "# np.any(np.isnan(df))"
      ],
      "metadata": {
        "id": "kccwFG_zl83k"
      },
      "execution_count": null,
      "outputs": []
    },
    {
      "cell_type": "code",
      "source": [
        "# #bringing the labels back into the dataset before deleting nan rows\n",
        "# df=df.merge(labl,how='outer',left_index=True,right_index=True)"
      ],
      "metadata": {
        "id": "4yDSu34JmIHV"
      },
      "execution_count": null,
      "outputs": []
    },
    {
      "cell_type": "code",
      "source": [
        "# #removing new NaN values\n",
        "# df.dropna(inplace=True)"
      ],
      "metadata": {
        "id": "BdUvHWpGnB-4"
      },
      "execution_count": null,
      "outputs": []
    },
    {
      "cell_type": "code",
      "source": [
        "df.shape"
      ],
      "metadata": {
        "id": "L51oDdJ7nJg2"
      },
      "execution_count": null,
      "outputs": []
    },
    {
      "cell_type": "code",
      "source": [
        "df.head()"
      ],
      "metadata": {
        "id": "P2s7KerMnTIt"
      },
      "execution_count": null,
      "outputs": []
    },
    {
      "cell_type": "code",
      "source": [
        "# #saving cleaned dataset\n",
        "# df.to_csv('cleaned_dataset.csv',index=False)"
      ],
      "metadata": {
        "id": "yfqjfwsfncq_"
      },
      "execution_count": null,
      "outputs": []
    },
    {
      "cell_type": "code",
      "execution_count": null,
      "metadata": {
        "id": "O4vijDcFnPGq"
      },
      "outputs": [],
      "source": []
    },
    {
      "cell_type": "code",
      "source": [
        "#"
      ],
      "metadata": {
        "id": "H7gaZbre4zBW"
      },
      "execution_count": null,
      "outputs": []
    },
    {
      "cell_type": "markdown",
      "source": [
        "# Data visualization\n",
        "So, by now we know our dataset has 78 features and is split into 15 categories (14 attacks and 1 \"normal\" state). Next step is to try and visualize what the dataset looks like in feature space. For this we will use principal component analysis (PCA) to reduce dimensionality and then pass the reduced dataset to t-SNE (t - Distributed Stohastic Neighbor Entities) for visual representation in 2D space."
      ],
      "metadata": {
        "id": "PP9xnrWwopF9"
      }
    },
    {
      "cell_type": "code",
      "source": [
        "# from sklearn.decomposition import PCA\n",
        "# from sklearn.manifold import TSNE\n",
        "# %matplotlib inline\n"
      ],
      "metadata": {
        "id": "rQUpe1gHom_v"
      },
      "execution_count": null,
      "outputs": []
    },
    {
      "cell_type": "code",
      "source": [
        "# #we are going to pick 10000 random rows from the dataset for visualization purpose\n",
        "# #setting the random seed for reproducability of results\n",
        "# np.random.seed(42)\n",
        "# rand_perm=np.random.permutation(df.shape[0])\n"
      ],
      "metadata": {
        "id": "pqbaS_BTpZH4"
      },
      "execution_count": null,
      "outputs": []
    },
    {
      "cell_type": "code",
      "source": [
        "# feature_cols=df.columns[:-1]\n",
        "# df_subset=df.iloc[rand_perm[:10000],:]"
      ],
      "metadata": {
        "id": "6XTiy5KGqPT_"
      },
      "execution_count": null,
      "outputs": []
    },
    {
      "cell_type": "code",
      "source": [
        "# df_subset=df_subset.replace([np.inf,-np.inf],np.nan)\n",
        "# df_subset.dropna(inplace=True)"
      ],
      "metadata": {
        "id": "WpHU39rwrc3A"
      },
      "execution_count": null,
      "outputs": []
    },
    {
      "cell_type": "code",
      "source": [
        "# df_subset=df_subset[feature_cols].values"
      ],
      "metadata": {
        "id": "GURajVzQzhKC"
      },
      "execution_count": null,
      "outputs": []
    },
    {
      "cell_type": "code",
      "source": [
        "# #performing the principle component analysis. with just 19 component the varience ration remains 99% which is great\n",
        "# from sklearn.decomposition import PCA\n",
        "\n",
        "# # 3. Apply PCA\n",
        "# pca = PCA(n_components=19)\n",
        "# pca_res = pca.fit_transform(df_subset)  # <-- use X, not df_subset\n",
        "\n",
        "# # 4. Free memory if needed\n",
        "# df_subset = None\n",
        "\n",
        "# # 5. Check variance explained by 19 components\n",
        "# variance_explained = np.sum(pca.explained_variance_ratio_)\n",
        "# print(\"Total variance explained by 19 components:\", variance_explained)\n"
      ],
      "metadata": {
        "id": "uKc7ic_DsP1J"
      },
      "execution_count": null,
      "outputs": []
    },
    {
      "cell_type": "code",
      "source": [
        "# #computing t-SNE\n",
        "# tsne = TSNE(n_components=2, verbose=0, perplexity=40, n_iter=1000)\n",
        "# tsne_res = tsne.fit_transform(pca_res)\n",
        "# print(\"done\")"
      ],
      "metadata": {
        "id": "WVzWOb-gvQ6A"
      },
      "execution_count": null,
      "outputs": []
    },
    {
      "cell_type": "code",
      "source": [
        "# df_subset['tsne-one']=tsne_res[:,0]\n",
        "# df_subset['tsne-two']=tsne_res[:,1]\n"
      ],
      "metadata": {
        "id": "kowQNyCvxVbq"
      },
      "execution_count": null,
      "outputs": []
    },
    {
      "cell_type": "code",
      "source": [
        "# plt.figure(figsize=(16,16))\n",
        "# sns.scatterplot(\n",
        "#     x=\"tsne_firstD\",y=\"tsne_secondD\",\n",
        "#     palette=sns.color_palette(\"hls\",colors),\n",
        "#     data=df_subset,\n",
        "#     hue='Label',\n",
        "#     alpha=0.3\n",
        "# )"
      ],
      "metadata": {
        "id": "qHxywMkTxcXl"
      },
      "execution_count": null,
      "outputs": []
    },
    {
      "cell_type": "markdown",
      "metadata": {
        "id": "eDoAx2UBn9Dy"
      },
      "source": [
        "## Plotting the histogram of the data"
      ]
    },
    {
      "cell_type": "code",
      "execution_count": null,
      "metadata": {
        "id": "Gp4RoSRtnQgJ"
      },
      "outputs": [],
      "source": [
        "import matplotlib.pyplot as plt  # for plotting graphs\n",
        "import numpy as np               # for numerical operations and dtype checking\n",
        "%matplotlib inline\n",
        "\n",
        "def plot_per_column_distribution(df, n_graph_shown, n_graph_per_row):\n",
        "    \"\"\"\n",
        "    This function plots the distribution of values for multiple columns in a DataFrame.\n",
        "    Numeric columns are shown as histograms.\n",
        "    Categorical columns (with few unique values) are shown as bar charts.\n",
        "\n",
        "    Parameters:\n",
        "    df: pandas DataFrame\n",
        "        The dataset containing columns to plot\n",
        "    n_graph_shown: int\n",
        "        Maximum number of columns to plot\n",
        "    n_graph_per_row: int\n",
        "        Number of plots to show in each row\n",
        "    \"\"\"\n",
        "\n",
        "    # Count unique values in each column\n",
        "    nunique = df.nunique()\n",
        "\n",
        "    # Select columns with 2 to 49 unique values for plotting\n",
        "    columns_to_plot = df.columns[(nunique > 1) & (nunique < 50)]\n",
        "    print(columns_to_plot)\n",
        "\n",
        "    # Create a smaller DataFrame containing only selected columns\n",
        "    df_to_plot = df[columns_to_plot]\n",
        "\n",
        "    # Get the number of rows and columns in the filtered DataFrame\n",
        "    n_rows, n_cols = df_to_plot.shape\n",
        "\n",
        "    # Calculate how many rows of plots we need in the figure\n",
        "    n_graph_row = (n_cols + n_graph_per_row - 1) // n_graph_per_row  # integer division\n",
        "\n",
        "    # Create the figure with calculated size\n",
        "    plt.figure(num=None,\n",
        "               figsize=(6 * n_graph_per_row, 8 * n_graph_row),  # width x height in inches\n",
        "               dpi=80,                                         # resolution\n",
        "               facecolor='w',                                  # figure background color\n",
        "               edgecolor='k')                                  # figure border color\n",
        "\n",
        "    # Loop through each selected column (up to n_graph_shown)\n",
        "    for i, col_name in enumerate(columns_to_plot[:n_graph_shown]):\n",
        "        # Create a subplot in the grid\n",
        "        plt.subplot(n_graph_row, n_graph_per_row, i + 1)\n",
        "\n",
        "        # Get data of the current column\n",
        "        column_data = df_to_plot[col_name]\n",
        "\n",
        "        # Check if the column is numeric\n",
        "        if np.issubdtype(column_data.dtype, np.number):\n",
        "            # If numeric, plot histogram\n",
        "            column_data.hist()\n",
        "        else:\n",
        "            # If categorical, count unique values and plot bar chart\n",
        "            value_counts = column_data.value_counts()\n",
        "            value_counts.plot.bar()\n",
        "\n",
        "        # Label y-axis\n",
        "        plt.ylabel('counts')\n",
        "\n",
        "        # Rotate x-axis labels for better readability\n",
        "        plt.xticks(rotation=90)\n",
        "\n",
        "        # Set the title of the subplot using f-string\n",
        "        plt.title(f'{col_name} (column {i})')\n",
        "\n",
        "    # Adjust spacing between subplots to prevent overlap\n",
        "    plt.tight_layout(pad=1.0, w_pad=1.0, h_pad=1.0)\n",
        "\n",
        "    # Display the figure\n",
        "    plt.show()\n"
      ]
    },
    {
      "cell_type": "code",
      "execution_count": null,
      "metadata": {
        "id": "Q6MzQ7fPq0_j"
      },
      "outputs": [],
      "source": [
        "plt.rcParams['figure.figsize']=(30,30)\n",
        "plot_per_column_distribution(df, 79, 5)\n"
      ]
    },
    {
      "cell_type": "markdown",
      "metadata": {
        "id": "UO85Uh1UtjlV"
      },
      "source": [
        "## plot the bar graph\n"
      ]
    },
    {
      "cell_type": "code",
      "execution_count": null,
      "metadata": {
        "id": "zJbmQzTSsWWS"
      },
      "outputs": [],
      "source": [
        "def bar_graph(feature):\n",
        "  df[feature].value_counts().plot(kind=\"bar\")\n"
      ]
    },
    {
      "cell_type": "code",
      "execution_count": null,
      "metadata": {
        "id": "Qhrpo-4nuDuj"
      },
      "outputs": [],
      "source": [
        "plt.rcParams['figure.figsize']=(15,15)\n",
        "bar_graph(\"Label\")"
      ]
    },
    {
      "cell_type": "code",
      "execution_count": null,
      "metadata": {
        "id": "GMtthLoduL5S"
      },
      "outputs": [],
      "source": [
        "import seaborn as sns\n",
        "p=sns.distplot(a=df['Flow Duration'])\n",
        "plt.show()"
      ]
    },
    {
      "cell_type": "markdown",
      "metadata": {
        "id": "TPBhqNOtvK3c"
      },
      "source": [
        "## plotting the piechart\n"
      ]
    },
    {
      "cell_type": "code",
      "execution_count": null,
      "metadata": {
        "id": "bKTQcKGluk1q"
      },
      "outputs": [],
      "source": [
        "plt.figure(figsize=(20,20))\n",
        "plt.pie(df['Label'].value_counts(),labels=df['Label'].unique(),autopct=\"%0.2f%%\")\n",
        "plt.title(\"pie chart distribution of normal and abnormal labels\")\n",
        "plt.legend()\n",
        "plt.show()"
      ]
    },
    {
      "cell_type": "code",
      "execution_count": null,
      "metadata": {
        "id": "J0gX8Zhkv2-i"
      },
      "outputs": [],
      "source": [
        "import matplotlib.pyplot as plt\n",
        "#increase the figure size\n",
        "\n",
        "plt.figure(figsize=(20,20))\n",
        "#piechart distribution of normal and abnormal labels\n",
        "labels=df['Label'].unique()\n",
        "sizes=df['Label'].value_counts()\n",
        "explode=(0.1,)*len(labels)#exploide all the slices slightly\n",
        "plt.pie(sizes,labels=labels,autopct=\"%0.2f%%\",explode=explode,startangle=90)\n",
        "plt.title(\"pie chart distribution of normal and abnormal labels\")\n",
        "plt.legend(labels,loc='best')\n",
        "plt.show()"
      ]
    },
    {
      "cell_type": "code",
      "source": [
        "df.shape"
      ],
      "metadata": {
        "id": "9t3xDcMY4B9m"
      },
      "execution_count": null,
      "outputs": []
    },
    {
      "cell_type": "code",
      "execution_count": null,
      "metadata": {
        "id": "YOVo9HWO3z9b"
      },
      "outputs": [],
      "source": [
        "df.replace([np.inf,-np.inf],np.nan,inplace=True)\n",
        "df.drop_duplicates(inplace=True)\n",
        "df.dropna(inplace=True)\n"
      ]
    },
    {
      "cell_type": "code",
      "execution_count": null,
      "metadata": {
        "id": "kUcnFlD25N6q"
      },
      "outputs": [],
      "source": [
        "df.shape"
      ]
    },
    {
      "cell_type": "code",
      "source": [
        "\n",
        "df['Label'].value_counts()"
      ],
      "metadata": {
        "id": "RhwDmJZH7eL-"
      },
      "execution_count": null,
      "outputs": []
    },
    {
      "cell_type": "code",
      "source": [
        "df['Label'].unique()"
      ],
      "metadata": {
        "id": "awaPmAFc8cUt"
      },
      "execution_count": null,
      "outputs": []
    },
    {
      "cell_type": "code",
      "execution_count": null,
      "metadata": {
        "id": "ckioO-M55PVi"
      },
      "outputs": [],
      "source": [
        "import pandas as pd\n",
        "#assuming df is your datafram with the given dataset\n",
        "#create a list of classes you want to keep all records for\n",
        "classes_to_keep = ['DoS GoldenEye','FTP-Patator','DoS slowloris','DoS Slowhttptest',\n",
        "                   'Bot','SSH-Patator','Web Attack � Brute Force','Web Attack � XSS',\n",
        "                   'Infiltration','Web Attack � Sql Injection','Heartbleed']\n",
        "\n",
        "#create  a list of classes you want to limit to 100000 records\n",
        "classes_to_limit=['BENIGN','DoS Hulk','PortScan','DDoS']\n",
        "#filter rows for classes to keep all records\n",
        "df_keep=df[df['Label'].isin(classes_to_keep)]\n",
        "#filter rows for classes to keep all records\n",
        "df_limit=df[df['Label'].isin(classes_to_limit)].groupby(\"Label\").head(50000)\n",
        "#combine the filtered rows\n",
        "result_df=pd.concat([df_keep,df_limit])\n",
        "#shuffle the resulting dataframe to mix the classes\n",
        "result_df=result_df.sample(frac=1,random_state=42).reset_index(drop=True)"
      ]
    },
    {
      "cell_type": "code",
      "execution_count": null,
      "metadata": {
        "id": "RNi5ZiuH8Goy"
      },
      "outputs": [],
      "source": [
        "result_df.shape"
      ]
    },
    {
      "cell_type": "code",
      "execution_count": null,
      "metadata": {
        "id": "KmVB9zpy8Yz7"
      },
      "outputs": [],
      "source": [
        "import matplotlib.pyplot as plt\n",
        "plt.figure(figsize=(20,20))\n",
        "#pie chart distribution of normal and abnormal labels\n",
        "labels=result_df['Label'].unique()\n",
        "sizes=result_df['Label'].value_counts()\n",
        "explode=(0.1,)*len(labels)#explode all slieces slightly\n",
        "plt.pie(sizes,labels=labels,autopct=\"%0.2f%%\",explode=explode,startangle=90)\n",
        "plt.title(\"pie chart distribution of normal and abnormal labels\")\n",
        "plt.legend(labels,loc='best')\n",
        "plt.show()"
      ]
    },
    {
      "cell_type": "markdown",
      "metadata": {
        "id": "KCx8D_DX-HMV"
      },
      "source": [
        "## Label encoding\n"
      ]
    },
    {
      "cell_type": "code",
      "execution_count": null,
      "metadata": {
        "id": "mm-GY0079Viz"
      },
      "outputs": [],
      "source": [
        "from sklearn.preprocessing import LabelEncoder\n",
        "\n",
        "#make acopy of your dataframe\n",
        "df_encoded=result_df.copy()\n",
        "#create alabel encoder object\n",
        "le=LabelEncoder()\n",
        "#fit and transform the label column and assign the transformed values to a new column\n",
        "df_encoded['Label']=le.fit_transform(result_df['Label'])\n",
        "#print the mapping of original labels to encoded values\n",
        "label_mapping=dict(zip(le.classes_,le.transform(le.classes_)))\n",
        "print(label_mapping)\n",
        "#display the modified dataframe\n",
        "print(\"\\n Encoded datarame:\")\n",
        "df_encoded.head()"
      ]
    },
    {
      "cell_type": "code",
      "execution_count": null,
      "metadata": {
        "id": "7iKi-xGz_LxT"
      },
      "outputs": [],
      "source": [
        "import joblib\n",
        "#save the label encoder to file\n",
        "encoder_file_path='label_encoder.pkl'\n",
        "joblib.dump(le,encoder_file_path)"
      ]
    },
    {
      "cell_type": "markdown",
      "metadata": {
        "id": "Og0kp07O_-ic"
      },
      "source": [
        "## making correlation matrix"
      ]
    },
    {
      "cell_type": "code",
      "execution_count": null,
      "metadata": {
        "id": "tCfsSqsP_8eq"
      },
      "outputs": [],
      "source": [
        "import seaborn as sns\n",
        "#set the correlation threshold\n",
        "correlation_threshold=0.15\n",
        "#calulate the correlation matrix\n",
        "corr=df_encoded.corr()\n",
        "#filter column based on the correlation threshold\n",
        "columns_to_include=corr.columns[abs(corr['Label'])>=correlation_threshold]\n",
        "filtered_corr=corr.loc[columns_to_include,columns_to_include]\n",
        "#plot the filtered correlation heatmap\n",
        "fig,ax=plt.subplots(figsize=(15,15))\n",
        "colormap=sns.diverging_palette(150,50,as_cmap=True)\n",
        "sns.heatmap(filtered_corr,cmap=colormap,annot=True,fmt=\".2f\")\n",
        "plt.xticks(range(len(filtered_corr.columns)),filtered_corr.columns)\n",
        "plt.yticks(range(len(filtered_corr.columns)),filtered_corr.columns)\n",
        "plt.show()\n"
      ]
    },
    {
      "cell_type": "code",
      "execution_count": null,
      "metadata": {
        "id": "kCCOEhS1BkqT"
      },
      "outputs": [],
      "source": [
        "#split your data into X and Y\n",
        "X=df_encoded.drop('Label',axis=1)\n",
        "y=df_encoded['Label']\n"
      ]
    },
    {
      "cell_type": "code",
      "execution_count": 197,
      "metadata": {
        "colab": {
          "base_uri": "https://localhost:8080/",
          "height": 307
        },
        "id": "a6S-0GPsMgMe",
        "outputId": "79863991-5de6-46b2-bd3a-a66d3e50de86"
      },
      "outputs": [
        {
          "output_type": "execute_result",
          "data": {
            "text/plain": [
              "   Fwd Packet Length Max  Fwd Packet Length Mean  Bwd Packets/s  \\\n",
              "0                      2                2.000000   18518.518520   \n",
              "1                    439               54.875000       1.199319   \n",
              "2                    397               56.714286       0.051276   \n",
              "3                      2                2.000000   23255.813950   \n",
              "4                    249               68.555556       0.074651   \n",
              "\n",
              "   Total Length of Fwd Packets  Subflow Fwd Bytes  Flow Packets/s  \\\n",
              "0                            2                  2    37037.037040   \n",
              "1                          439                439        2.798411   \n",
              "2                          397                397        0.123061   \n",
              "3                            2                  2    46511.627910   \n",
              "4                          617                617        0.158634   \n",
              "\n",
              "   Packet Length Std  Flow IAT Mean  Avg Fwd Segment Size  Flow IAT Max  ...  \\\n",
              "0           2.309401   5.400000e+01              2.000000            54  ...   \n",
              "1        1801.039718   3.848338e+05             54.875000       5000031  ...   \n",
              "2        2797.778452   8.864748e+06             56.714286      97500000  ...   \n",
              "3           2.309401   4.300000e+01              2.000000            43  ...   \n",
              "4         508.378561   6.697792e+06             68.555556     107000000  ...   \n",
              "\n",
              "   Avg Bwd Segment Size  Bwd Packet Length Mean  Flow Duration  \\\n",
              "0              6.000000                6.000000             54   \n",
              "1           1938.666667             1938.666667        5002839   \n",
              "2           2319.000000             2319.000000       97512230   \n",
              "3              6.000000                6.000000             43   \n",
              "4            669.750000              669.750000      107164673   \n",
              "\n",
              "   Bwd Packet Length Std  Bwd Packet Length Max  Subflow Bwd Bytes  \\\n",
              "0               0.000000                      6                  6   \n",
              "1            2544.918912                   5792              11632   \n",
              "2            4414.366206                  10136              11595   \n",
              "3               0.000000                      6                  6   \n",
              "4             617.075534                   1460               5358   \n",
              "\n",
              "   Total Length of Bwd Packets  Destination Port  Packet Length Variance  \\\n",
              "0                            6             10243            5.333333e+00   \n",
              "1                        11632                80            3.243744e+06   \n",
              "2                        11595                80            7.827564e+06   \n",
              "3                            6              3945            5.333333e+00   \n",
              "4                         5358               443            2.584488e+05   \n",
              "\n",
              "   Label  \n",
              "0     10  \n",
              "1      3  \n",
              "2      4  \n",
              "3     10  \n",
              "4      0  \n",
              "\n",
              "[5 rows x 21 columns]"
            ],
            "text/html": [
              "\n",
              "  <div id=\"df-b89f4db7-2798-4827-8533-1132e290a2fc\" class=\"colab-df-container\">\n",
              "    <div>\n",
              "<style scoped>\n",
              "    .dataframe tbody tr th:only-of-type {\n",
              "        vertical-align: middle;\n",
              "    }\n",
              "\n",
              "    .dataframe tbody tr th {\n",
              "        vertical-align: top;\n",
              "    }\n",
              "\n",
              "    .dataframe thead th {\n",
              "        text-align: right;\n",
              "    }\n",
              "</style>\n",
              "<table border=\"1\" class=\"dataframe\">\n",
              "  <thead>\n",
              "    <tr style=\"text-align: right;\">\n",
              "      <th></th>\n",
              "      <th>Fwd Packet Length Max</th>\n",
              "      <th>Fwd Packet Length Mean</th>\n",
              "      <th>Bwd Packets/s</th>\n",
              "      <th>Total Length of Fwd Packets</th>\n",
              "      <th>Subflow Fwd Bytes</th>\n",
              "      <th>Flow Packets/s</th>\n",
              "      <th>Packet Length Std</th>\n",
              "      <th>Flow IAT Mean</th>\n",
              "      <th>Avg Fwd Segment Size</th>\n",
              "      <th>Flow IAT Max</th>\n",
              "      <th>...</th>\n",
              "      <th>Avg Bwd Segment Size</th>\n",
              "      <th>Bwd Packet Length Mean</th>\n",
              "      <th>Flow Duration</th>\n",
              "      <th>Bwd Packet Length Std</th>\n",
              "      <th>Bwd Packet Length Max</th>\n",
              "      <th>Subflow Bwd Bytes</th>\n",
              "      <th>Total Length of Bwd Packets</th>\n",
              "      <th>Destination Port</th>\n",
              "      <th>Packet Length Variance</th>\n",
              "      <th>Label</th>\n",
              "    </tr>\n",
              "  </thead>\n",
              "  <tbody>\n",
              "    <tr>\n",
              "      <th>0</th>\n",
              "      <td>2</td>\n",
              "      <td>2.000000</td>\n",
              "      <td>18518.518520</td>\n",
              "      <td>2</td>\n",
              "      <td>2</td>\n",
              "      <td>37037.037040</td>\n",
              "      <td>2.309401</td>\n",
              "      <td>5.400000e+01</td>\n",
              "      <td>2.000000</td>\n",
              "      <td>54</td>\n",
              "      <td>...</td>\n",
              "      <td>6.000000</td>\n",
              "      <td>6.000000</td>\n",
              "      <td>54</td>\n",
              "      <td>0.000000</td>\n",
              "      <td>6</td>\n",
              "      <td>6</td>\n",
              "      <td>6</td>\n",
              "      <td>10243</td>\n",
              "      <td>5.333333e+00</td>\n",
              "      <td>10</td>\n",
              "    </tr>\n",
              "    <tr>\n",
              "      <th>1</th>\n",
              "      <td>439</td>\n",
              "      <td>54.875000</td>\n",
              "      <td>1.199319</td>\n",
              "      <td>439</td>\n",
              "      <td>439</td>\n",
              "      <td>2.798411</td>\n",
              "      <td>1801.039718</td>\n",
              "      <td>3.848338e+05</td>\n",
              "      <td>54.875000</td>\n",
              "      <td>5000031</td>\n",
              "      <td>...</td>\n",
              "      <td>1938.666667</td>\n",
              "      <td>1938.666667</td>\n",
              "      <td>5002839</td>\n",
              "      <td>2544.918912</td>\n",
              "      <td>5792</td>\n",
              "      <td>11632</td>\n",
              "      <td>11632</td>\n",
              "      <td>80</td>\n",
              "      <td>3.243744e+06</td>\n",
              "      <td>3</td>\n",
              "    </tr>\n",
              "    <tr>\n",
              "      <th>2</th>\n",
              "      <td>397</td>\n",
              "      <td>56.714286</td>\n",
              "      <td>0.051276</td>\n",
              "      <td>397</td>\n",
              "      <td>397</td>\n",
              "      <td>0.123061</td>\n",
              "      <td>2797.778452</td>\n",
              "      <td>8.864748e+06</td>\n",
              "      <td>56.714286</td>\n",
              "      <td>97500000</td>\n",
              "      <td>...</td>\n",
              "      <td>2319.000000</td>\n",
              "      <td>2319.000000</td>\n",
              "      <td>97512230</td>\n",
              "      <td>4414.366206</td>\n",
              "      <td>10136</td>\n",
              "      <td>11595</td>\n",
              "      <td>11595</td>\n",
              "      <td>80</td>\n",
              "      <td>7.827564e+06</td>\n",
              "      <td>4</td>\n",
              "    </tr>\n",
              "    <tr>\n",
              "      <th>3</th>\n",
              "      <td>2</td>\n",
              "      <td>2.000000</td>\n",
              "      <td>23255.813950</td>\n",
              "      <td>2</td>\n",
              "      <td>2</td>\n",
              "      <td>46511.627910</td>\n",
              "      <td>2.309401</td>\n",
              "      <td>4.300000e+01</td>\n",
              "      <td>2.000000</td>\n",
              "      <td>43</td>\n",
              "      <td>...</td>\n",
              "      <td>6.000000</td>\n",
              "      <td>6.000000</td>\n",
              "      <td>43</td>\n",
              "      <td>0.000000</td>\n",
              "      <td>6</td>\n",
              "      <td>6</td>\n",
              "      <td>6</td>\n",
              "      <td>3945</td>\n",
              "      <td>5.333333e+00</td>\n",
              "      <td>10</td>\n",
              "    </tr>\n",
              "    <tr>\n",
              "      <th>4</th>\n",
              "      <td>249</td>\n",
              "      <td>68.555556</td>\n",
              "      <td>0.074651</td>\n",
              "      <td>617</td>\n",
              "      <td>617</td>\n",
              "      <td>0.158634</td>\n",
              "      <td>508.378561</td>\n",
              "      <td>6.697792e+06</td>\n",
              "      <td>68.555556</td>\n",
              "      <td>107000000</td>\n",
              "      <td>...</td>\n",
              "      <td>669.750000</td>\n",
              "      <td>669.750000</td>\n",
              "      <td>107164673</td>\n",
              "      <td>617.075534</td>\n",
              "      <td>1460</td>\n",
              "      <td>5358</td>\n",
              "      <td>5358</td>\n",
              "      <td>443</td>\n",
              "      <td>2.584488e+05</td>\n",
              "      <td>0</td>\n",
              "    </tr>\n",
              "  </tbody>\n",
              "</table>\n",
              "<p>5 rows × 21 columns</p>\n",
              "</div>\n",
              "    <div class=\"colab-df-buttons\">\n",
              "\n",
              "  <div class=\"colab-df-container\">\n",
              "    <button class=\"colab-df-convert\" onclick=\"convertToInteractive('df-b89f4db7-2798-4827-8533-1132e290a2fc')\"\n",
              "            title=\"Convert this dataframe to an interactive table.\"\n",
              "            style=\"display:none;\">\n",
              "\n",
              "  <svg xmlns=\"http://www.w3.org/2000/svg\" height=\"24px\" viewBox=\"0 -960 960 960\">\n",
              "    <path d=\"M120-120v-720h720v720H120Zm60-500h600v-160H180v160Zm220 220h160v-160H400v160Zm0 220h160v-160H400v160ZM180-400h160v-160H180v160Zm440 0h160v-160H620v160ZM180-180h160v-160H180v160Zm440 0h160v-160H620v160Z\"/>\n",
              "  </svg>\n",
              "    </button>\n",
              "\n",
              "  <style>\n",
              "    .colab-df-container {\n",
              "      display:flex;\n",
              "      gap: 12px;\n",
              "    }\n",
              "\n",
              "    .colab-df-convert {\n",
              "      background-color: #E8F0FE;\n",
              "      border: none;\n",
              "      border-radius: 50%;\n",
              "      cursor: pointer;\n",
              "      display: none;\n",
              "      fill: #1967D2;\n",
              "      height: 32px;\n",
              "      padding: 0 0 0 0;\n",
              "      width: 32px;\n",
              "    }\n",
              "\n",
              "    .colab-df-convert:hover {\n",
              "      background-color: #E2EBFA;\n",
              "      box-shadow: 0px 1px 2px rgba(60, 64, 67, 0.3), 0px 1px 3px 1px rgba(60, 64, 67, 0.15);\n",
              "      fill: #174EA6;\n",
              "    }\n",
              "\n",
              "    .colab-df-buttons div {\n",
              "      margin-bottom: 4px;\n",
              "    }\n",
              "\n",
              "    [theme=dark] .colab-df-convert {\n",
              "      background-color: #3B4455;\n",
              "      fill: #D2E3FC;\n",
              "    }\n",
              "\n",
              "    [theme=dark] .colab-df-convert:hover {\n",
              "      background-color: #434B5C;\n",
              "      box-shadow: 0px 1px 3px 1px rgba(0, 0, 0, 0.15);\n",
              "      filter: drop-shadow(0px 1px 2px rgba(0, 0, 0, 0.3));\n",
              "      fill: #FFFFFF;\n",
              "    }\n",
              "  </style>\n",
              "\n",
              "    <script>\n",
              "      const buttonEl =\n",
              "        document.querySelector('#df-b89f4db7-2798-4827-8533-1132e290a2fc button.colab-df-convert');\n",
              "      buttonEl.style.display =\n",
              "        google.colab.kernel.accessAllowed ? 'block' : 'none';\n",
              "\n",
              "      async function convertToInteractive(key) {\n",
              "        const element = document.querySelector('#df-b89f4db7-2798-4827-8533-1132e290a2fc');\n",
              "        const dataTable =\n",
              "          await google.colab.kernel.invokeFunction('convertToInteractive',\n",
              "                                                    [key], {});\n",
              "        if (!dataTable) return;\n",
              "\n",
              "        const docLinkHtml = 'Like what you see? Visit the ' +\n",
              "          '<a target=\"_blank\" href=https://colab.research.google.com/notebooks/data_table.ipynb>data table notebook</a>'\n",
              "          + ' to learn more about interactive tables.';\n",
              "        element.innerHTML = '';\n",
              "        dataTable['output_type'] = 'display_data';\n",
              "        await google.colab.output.renderOutput(dataTable, element);\n",
              "        const docLink = document.createElement('div');\n",
              "        docLink.innerHTML = docLinkHtml;\n",
              "        element.appendChild(docLink);\n",
              "      }\n",
              "    </script>\n",
              "  </div>\n",
              "\n",
              "\n",
              "    <div id=\"df-33ac97fd-f9fe-452d-8bce-96305e0effc0\">\n",
              "      <button class=\"colab-df-quickchart\" onclick=\"quickchart('df-33ac97fd-f9fe-452d-8bce-96305e0effc0')\"\n",
              "                title=\"Suggest charts\"\n",
              "                style=\"display:none;\">\n",
              "\n",
              "<svg xmlns=\"http://www.w3.org/2000/svg\" height=\"24px\"viewBox=\"0 0 24 24\"\n",
              "     width=\"24px\">\n",
              "    <g>\n",
              "        <path d=\"M19 3H5c-1.1 0-2 .9-2 2v14c0 1.1.9 2 2 2h14c1.1 0 2-.9 2-2V5c0-1.1-.9-2-2-2zM9 17H7v-7h2v7zm4 0h-2V7h2v10zm4 0h-2v-4h2v4z\"/>\n",
              "    </g>\n",
              "</svg>\n",
              "      </button>\n",
              "\n",
              "<style>\n",
              "  .colab-df-quickchart {\n",
              "      --bg-color: #E8F0FE;\n",
              "      --fill-color: #1967D2;\n",
              "      --hover-bg-color: #E2EBFA;\n",
              "      --hover-fill-color: #174EA6;\n",
              "      --disabled-fill-color: #AAA;\n",
              "      --disabled-bg-color: #DDD;\n",
              "  }\n",
              "\n",
              "  [theme=dark] .colab-df-quickchart {\n",
              "      --bg-color: #3B4455;\n",
              "      --fill-color: #D2E3FC;\n",
              "      --hover-bg-color: #434B5C;\n",
              "      --hover-fill-color: #FFFFFF;\n",
              "      --disabled-bg-color: #3B4455;\n",
              "      --disabled-fill-color: #666;\n",
              "  }\n",
              "\n",
              "  .colab-df-quickchart {\n",
              "    background-color: var(--bg-color);\n",
              "    border: none;\n",
              "    border-radius: 50%;\n",
              "    cursor: pointer;\n",
              "    display: none;\n",
              "    fill: var(--fill-color);\n",
              "    height: 32px;\n",
              "    padding: 0;\n",
              "    width: 32px;\n",
              "  }\n",
              "\n",
              "  .colab-df-quickchart:hover {\n",
              "    background-color: var(--hover-bg-color);\n",
              "    box-shadow: 0 1px 2px rgba(60, 64, 67, 0.3), 0 1px 3px 1px rgba(60, 64, 67, 0.15);\n",
              "    fill: var(--button-hover-fill-color);\n",
              "  }\n",
              "\n",
              "  .colab-df-quickchart-complete:disabled,\n",
              "  .colab-df-quickchart-complete:disabled:hover {\n",
              "    background-color: var(--disabled-bg-color);\n",
              "    fill: var(--disabled-fill-color);\n",
              "    box-shadow: none;\n",
              "  }\n",
              "\n",
              "  .colab-df-spinner {\n",
              "    border: 2px solid var(--fill-color);\n",
              "    border-color: transparent;\n",
              "    border-bottom-color: var(--fill-color);\n",
              "    animation:\n",
              "      spin 1s steps(1) infinite;\n",
              "  }\n",
              "\n",
              "  @keyframes spin {\n",
              "    0% {\n",
              "      border-color: transparent;\n",
              "      border-bottom-color: var(--fill-color);\n",
              "      border-left-color: var(--fill-color);\n",
              "    }\n",
              "    20% {\n",
              "      border-color: transparent;\n",
              "      border-left-color: var(--fill-color);\n",
              "      border-top-color: var(--fill-color);\n",
              "    }\n",
              "    30% {\n",
              "      border-color: transparent;\n",
              "      border-left-color: var(--fill-color);\n",
              "      border-top-color: var(--fill-color);\n",
              "      border-right-color: var(--fill-color);\n",
              "    }\n",
              "    40% {\n",
              "      border-color: transparent;\n",
              "      border-right-color: var(--fill-color);\n",
              "      border-top-color: var(--fill-color);\n",
              "    }\n",
              "    60% {\n",
              "      border-color: transparent;\n",
              "      border-right-color: var(--fill-color);\n",
              "    }\n",
              "    80% {\n",
              "      border-color: transparent;\n",
              "      border-right-color: var(--fill-color);\n",
              "      border-bottom-color: var(--fill-color);\n",
              "    }\n",
              "    90% {\n",
              "      border-color: transparent;\n",
              "      border-bottom-color: var(--fill-color);\n",
              "    }\n",
              "  }\n",
              "</style>\n",
              "\n",
              "      <script>\n",
              "        async function quickchart(key) {\n",
              "          const quickchartButtonEl =\n",
              "            document.querySelector('#' + key + ' button');\n",
              "          quickchartButtonEl.disabled = true;  // To prevent multiple clicks.\n",
              "          quickchartButtonEl.classList.add('colab-df-spinner');\n",
              "          try {\n",
              "            const charts = await google.colab.kernel.invokeFunction(\n",
              "                'suggestCharts', [key], {});\n",
              "          } catch (error) {\n",
              "            console.error('Error during call to suggestCharts:', error);\n",
              "          }\n",
              "          quickchartButtonEl.classList.remove('colab-df-spinner');\n",
              "          quickchartButtonEl.classList.add('colab-df-quickchart-complete');\n",
              "        }\n",
              "        (() => {\n",
              "          let quickchartButtonEl =\n",
              "            document.querySelector('#df-33ac97fd-f9fe-452d-8bce-96305e0effc0 button');\n",
              "          quickchartButtonEl.style.display =\n",
              "            google.colab.kernel.accessAllowed ? 'block' : 'none';\n",
              "        })();\n",
              "      </script>\n",
              "    </div>\n",
              "\n",
              "    </div>\n",
              "  </div>\n"
            ],
            "application/vnd.google.colaboratory.intrinsic+json": {
              "type": "dataframe",
              "variable_name": "df_top_features"
            }
          },
          "metadata": {},
          "execution_count": 197
        }
      ],
      "source": [
        "from sklearn.ensemble import RandomForestClassifier\n",
        "from sklearn.model_selection import train_test_split\n",
        "from sklearn.feature_selection import SelectFromModel\n",
        "import pandas as pd\n",
        "\n",
        "#split the data into trainng and testing sets\n",
        "X_train,X_test,y_train,y_test=train_test_split(X,y,test_size=0.2,random_state=42)\n",
        "\n",
        "#initialize random forest classifier\n",
        "rf_classifier=RandomForestClassifier(n_estimators=100,random_state=42)\n",
        "\n",
        "#fit the model to the training data\n",
        "rf_classifier.fit(X_train,y_train)\n",
        "\n",
        "#get feature importances\n",
        "feature_importances=rf_classifier.feature_importances_\n",
        "\n",
        "#create dataframe with feature with names and their importances\n",
        "feature_importance_df=pd.DataFrame({'Feature':X.columns,'Importance':feature_importances})\n",
        "\n",
        "#sort the dataframe by importance in decending order\n",
        "feature_importance_df=feature_importance_df.sort_values(by='Importance',ascending=False)\n",
        "\n",
        "#select the top 20 features\n",
        "top_features=feature_importance_df.head(20)['Feature'].tolist()\n",
        "\n",
        "#filter your original dataframe to include only top 20 features\n",
        "df_top_features=df_encoded[top_features+['Label']]\n",
        "\n",
        "#display the dataframe with top features\n",
        "df_top_features.head()\n"
      ]
    },
    {
      "cell_type": "code",
      "execution_count": 198,
      "metadata": {
        "colab": {
          "base_uri": "https://localhost:8080/",
          "height": 372
        },
        "id": "cdCeZM1ER4G3",
        "outputId": "ab0ef003-d47d-4754-eb42-22a540a64d56"
      },
      "outputs": [
        {
          "output_type": "display_data",
          "data": {
            "text/plain": [
              "<Figure size 1200x800 with 1 Axes>"
            ],
            "image/png": "[encoded data removed]"
          },
          "metadata": {}
        }
      ],
      "source": [
        "import matplotlib.pyplot as plt\n",
        "#create a bar plot of the top 20 features and their importances\n",
        "plt.figure(figsize=(12,8))\n",
        "plt.barh(top_features,feature_importance_df.head(20)['Importance'],color='red')\n",
        "plt.xlabel('Importance')\n",
        "plt.ylabel('Features')\n",
        "plt.title('Top 20 Features by Importance')\n",
        "plt.show()"
      ]
    },
    {
      "cell_type": "code",
      "execution_count": null,
      "metadata": {
        "id": "LxALBMqATWm3"
      },
      "outputs": [],
      "source": [
        "import matplotlib.pyplot as plt\n",
        "#assumming feature_importance-df is the datafram with feature importances\n",
        "#sort the dataframe by importance in  decending order\n",
        "feature_importance_df=feature_importance_df.sort_values(by='Importance',ascending=False)\n",
        "\n",
        "#create bar plot of all the features and their importance\n",
        "plt.figure(figsize=(12,8))\n",
        "plt.barh(feature_importance_df['Feature'],feature_importance_df['Importance'],color=\"blue\")\n",
        "plt.xlabel('Importance')\n",
        "plt.ylabel('Features')\n",
        "plt.title('All Features and their Importance')\n",
        "plt.show()"
      ]
    },
    {
      "cell_type": "code",
      "execution_count": null,
      "metadata": {
        "id": "KH7VSzbcV91P"
      },
      "outputs": [],
      "source": [
        "df_top_features.info()"
      ]
    },
    {
      "cell_type": "code",
      "execution_count": null,
      "metadata": {
        "id": "Lz6ndxPYWVWv"
      },
      "outputs": [],
      "source": [
        "#assumming the label is the target variable\n",
        "X_top_features=df_top_features.drop(['Label'],axis=1)\n",
        "y_top_features=df_top_features['Label']\n",
        "\n",
        "#split the data into training and testing sets\n",
        "X_train,X_test,y_train,y_test=train_test_split(X_top_features,y_top_features,test_size=0.2,random_state=42)"
      ]
    },
    {
      "cell_type": "code",
      "execution_count": null,
      "metadata": {
        "id": "-qEJMzb9XgnX"
      },
      "outputs": [],
      "source": [
        "X_train.info()"
      ]
    },
    {
      "cell_type": "code",
      "execution_count": null,
      "metadata": {
        "id": "HUS5NrRUXlA_"
      },
      "outputs": [],
      "source": [
        "X_test.info()"
      ]
    },
    {
      "cell_type": "markdown",
      "metadata": {
        "id": "p60EYQ-5Yd_x"
      },
      "source": [
        "## Storing the top features"
      ]
    },
    {
      "cell_type": "code",
      "execution_count": null,
      "metadata": {
        "id": "Gc639v1oXzJ-"
      },
      "outputs": [],
      "source": [
        "X_top_features.to_csv('X_top_features.csv',index=False)\n",
        "y_top_features.to_csv('y_top_features.csv',index=False)"
      ]
    },
    {
      "cell_type": "code",
      "execution_count": null,
      "metadata": {
        "id": "uUhXQw5WYU3n"
      },
      "outputs": [],
      "source": [
        "print(\"Infinity values in X_train:\",np.any(np.isinf(X_train)))\n",
        "print(\"NaN values in X_train:\",np.any(np.isnan(X_train)))\n",
        "print(\"Infinity values in X_test:\",np.any(np.isinf(X_test)))\n",
        "print(\"NaN values in X_test:\",np.any(np.isnan(X_test)))"
      ]
    },
    {
      "cell_type": "code",
      "execution_count": null,
      "metadata": {
        "id": "vBfFDg7SZBKH"
      },
      "outputs": [],
      "source": [
        "# #from sklearn.preprocessing import StandardScaler\n",
        "# scaler=StandardScaler()\n",
        "# X_train_scaled=scaler.fit_transform(X_train)\n",
        "# X_test_scaled=scaler.transform(X_test)"
      ]
    },
    {
      "cell_type": "code",
      "execution_count": null,
      "metadata": {
        "id": "d1sjR2YGZ7LI"
      },
      "outputs": [],
      "source": [
        "from sklearn import metrics\n",
        "import warnings\n",
        "warnings.filterwarnings('ignore')"
      ]
    },
    {
      "cell_type": "code",
      "execution_count": null,
      "metadata": {
        "id": "tV07Qj67chUw"
      },
      "outputs": [],
      "source": [
        "\n",
        "def print_all_accuracy_metric(algorithm,name):\n",
        "  #computing the accuracy ,f1score,precision and recall of the model performance\n",
        "  #predicting the target value from the model of the samples\n",
        "  y_train_log=algorithm.predict(X_train)\n",
        "  y_test_log=algorithm.predict(X_test)\n",
        "  acc_train_log=metrics.accuracy_score(y_train,y_train_log)\n",
        "\n",
        "  acc_test_log=metrics.accuracy_score(y_test,y_test_log)\n",
        "  print(name,\": Accuracy on training Data:{:.3f}\".format(acc_train_log))\n",
        "  print(name,\": Accuracy on test data:{:.3f}\".format(acc_test_log))\n",
        "  print()\n",
        "\n",
        "  f1_score_train_log=metrics.f1_score(y_train,y_train_log,average='macro')\n",
        "  f1_score_test_log=metrics.f1_score(y_test,y_test_log,average='macro')\n",
        "  print(name,\": F1 score on training data:{:.3f}\".format(f1_score_train_log))\n",
        "  print(name,\": F1 score on test data:{:.3f}\".format(f1_score_test_log))\n",
        "  print()\n",
        "\n",
        "  recall_score_train_log=metrics.recall_score(y_train,y_train_log,average='macro')\n",
        "  recall_score_test_log=metrics.recall_score(y_test,y_test_log,average='macro')\n",
        "  print(name,\": Recall score on training data:{:.3f}\".format(recall_score_train_log))\n",
        "  print(name,\": Recall score on test data:{:.3f}\".format(recall_score_test_log))\n",
        "  print()\n",
        "\n",
        "  precision_score_train_log=metrics.precision_score(y_train,y_train_log,average='macro')\n",
        "  precision_score_test_log=metrics.precision_score(y_test,y_test_log,average='macro')\n",
        "  print(name,\": Precision score on training data:{:.3f}\".format(precision_score_train_log))\n",
        "  print(name,\": precision socre on test dat:{:.3f}\".format(precision_score_test_log))\n",
        "  print()\n",
        "\n",
        "  print(\"\\n\\n Classification Report \\n\\n\")\n",
        "  print(metrics.classification_report(y_test,y_test_log))\n",
        "  print(\"\\n\\n\")"
      ]
    },
    {
      "cell_type": "markdown",
      "metadata": {
        "id": "L6rzNyI2w5py"
      },
      "source": [
        "# Machine Learning"
      ]
    },
    {
      "cell_type": "markdown",
      "metadata": {
        "id": "O0glDfU0yfwU"
      },
      "source": [
        " ## 1.DecisionTreeClassifier"
      ]
    },
    {
      "cell_type": "code",
      "execution_count": null,
      "metadata": {
        "id": "lu8rznLcgisg"
      },
      "outputs": [],
      "source": [
        "from sklearn.tree import DecisionTreeClassifier\n",
        "clfd=DecisionTreeClassifier(criterion='entropy',max_depth=4)\n",
        "clfd.fit(X_train,y_train)\n",
        "\n",
        "print_all_accuracy_metric(clfd,\"DecisionTreeClassifier\")\n",
        "#save the model using joblib\n",
        "joblib.dump(clfd,'DecisionTreeClassifier.joblib')"
      ]
    },
    {
      "cell_type": "markdown",
      "metadata": {
        "id": "P_Vgrqzn1dur"
      },
      "source": [
        "## 2. SVM(Support vector machine)"
      ]
    },
    {
      "cell_type": "code",
      "execution_count": null,
      "metadata": {
        "id": "wKqQQUexw2pb"
      },
      "outputs": [],
      "source": [
        "# from sklearn.svm import SVC\n",
        "# #create the SVM model\n",
        "# svm_model=SVC(kernel='linear',C=1.0)\n",
        "\n",
        "# #fit the model in the training data\n",
        "# svm_model.fit(X_train,y_train)\n",
        "\n",
        "# print_all_accuracy_metric(svm_model,'SVM')\n",
        "# #save the model using joblib\n",
        "# joblib.dump(svm_model,'SVM.joblib')"
      ]
    },
    {
      "cell_type": "markdown",
      "metadata": {
        "id": "KCvJTwLR3XM7"
      },
      "source": [
        "## 3. RandomForestClassifier\n"
      ]
    },
    {
      "cell_type": "code",
      "execution_count": null,
      "metadata": {
        "id": "Rqf_ch9K2hyz"
      },
      "outputs": [],
      "source": [
        "from sklearn.ensemble import RandomForestClassifier\n",
        "rf_clf=RandomForestClassifier(random_state=42)\n",
        "rf_clf.fit(X_train,y_train)\n",
        "print_all_accuracy_metric(rf_clf,'RandomForestClassifier')\n",
        "#save the model using joblib\n",
        "joblib.dump(rf_clf,'RandomForestClassifier.joblib')"
      ]
    },
    {
      "cell_type": "markdown",
      "metadata": {
        "id": "uHCasZ-r8LUr"
      },
      "source": [
        "## 3.KNN"
      ]
    },
    {
      "cell_type": "code",
      "execution_count": null,
      "metadata": {
        "id": "jsku0hL88EEy"
      },
      "outputs": [],
      "source": [
        "from sklearn.neighbors import KNeighborsClassifier\n",
        "knn_clf=KNeighborsClassifier(n_neighbors=5)\n",
        "knn_clf.fit(X_train,y_train)\n",
        "# make the prediction on the test set\n",
        "y_pred=knn_clf.predict(X_test)\n",
        "print_all_accuracy_metric(knn_clf,'KNeighborsClassifier')\n",
        "\n",
        "#save the model using jolib\n",
        "joblib.dump(knn_clf,'KneighborsClassifier.joblib')"
      ]
    },
    {
      "cell_type": "markdown",
      "metadata": {
        "id": "WqdQQdgH_4Q7"
      },
      "source": [
        "## 4.Naive Bayes\n"
      ]
    },
    {
      "cell_type": "code",
      "execution_count": null,
      "metadata": {
        "id": "YXqXSJQC9Dzr"
      },
      "outputs": [],
      "source": [
        "# Naive Bayes classifier model\n",
        "from sklearn.naive_bayes import GaussianNB\n",
        "from sklearn.pipeline import Pipeline\n",
        "nb=GaussianNB()\n",
        "#fit the model\n",
        "nb.fit(X_train,y_train)\n",
        "print_all_accuracy_metric(nb,'Naive Bayes')\n",
        "joblib.dump(nb,'GaussianNB.joblib')"
      ]
    },
    {
      "cell_type": "code",
      "execution_count": null,
      "metadata": {
        "id": "AcdEDMTNA11B"
      },
      "outputs": [],
      "source": [
        "pip install catboost"
      ]
    },
    {
      "cell_type": "markdown",
      "metadata": {
        "id": "sICDOD7MH2C4"
      },
      "source": [
        "## 5 catboost"
      ]
    },
    {
      "cell_type": "code",
      "execution_count": null,
      "metadata": {
        "id": "-pGAzCiPEHrX"
      },
      "outputs": [],
      "source": [
        "import catboost\n",
        "from catboost import CatBoostClassifier\n",
        "catboost_model=CatBoostClassifier(iterations=10,learning_rate=0.1,depth=6)\n",
        "catboost_model.fit(X_train,y_train)\n",
        "print_all_accuracy_metric(catboost_model,'CatBoostClassifier')\n",
        "joblib.dump(catboost_model,'CatBoostClassifier.joblib')"
      ]
    },
    {
      "cell_type": "markdown",
      "metadata": {
        "id": "ppj29A_xnLTJ"
      },
      "source": [
        "##6.Logistic regression\n"
      ]
    },
    {
      "cell_type": "code",
      "execution_count": null,
      "metadata": {
        "id": "srMevfecE3Ms"
      },
      "outputs": [],
      "source": [
        "from sklearn.linear_model import LogisticRegression\n",
        "logreg_model=LogisticRegression()\n",
        "logreg_model.fit(X_train,y_train)\n",
        "print_all_accuracy_metric(logreg_model,'LogisticRegression')\n",
        "joblib.dump(logreg_model,'LogisticRegression.joblib')"
      ]
    },
    {
      "cell_type": "markdown",
      "metadata": {
        "id": "VTvP6mUEsOWP"
      },
      "source": [
        "##7. Hybrid Model\n"
      ]
    },
    {
      "cell_type": "code",
      "execution_count": null,
      "metadata": {
        "id": "UDyvJ4vOnnWv"
      },
      "outputs": [],
      "source": [
        "from sklearn.ensemble import StackingClassifier,RandomForestClassifier\n",
        "from sklearn.naive_bayes import GaussianNB\n",
        "from sklearn.linear_model import LogisticRegression\n",
        "from sklearn.tree import DecisionTreeClassifier\n",
        "from sklearn.neighbors import KNeighborsClassifier\n",
        "from sklearn.ensemble import RandomForestClassifier\n",
        "from sklearn.ensemble import GradientBoostingClassifier\n",
        "from catboost import CatBoostClassifier\n",
        "#import or define print_all_accuracy_matric function\n",
        "#define the meta model\n",
        "meta_model=RandomForestClassifier(n_estimators=100,random_state=42)\n",
        "#Define the base model\n",
        "logreg_model=LogisticRegression()\n",
        "clfd=DecisionTreeClassifier(criterion='entropy',max_depth=4)\n",
        "knn_clf=KNeighborsClassifier(n_neighbors=5)\n",
        "catboost_model=CatBoostClassifier(iterations=10,learning_rate=0.1,depth=6)\n",
        "#define the stacking ensemble model\n",
        "stacked_model=StackingClassifier(\n",
        "    estimators=[('DescisionTree',clfd),('LogisticRegression',logreg_model),('KNN',knn_clf),('CatBoostClassifier',catboost_model)],\n",
        "    final_estimator=meta_model,\n",
        "    cv=5# cross validation\n",
        ")\n",
        "#train the stacking ensemble model\n",
        "stacked_model.fit(X_train,y_train)\n",
        "#evalute the peroformance of the stacking ensemble model\n",
        "print_all_accuracy_metric(stacked_model,'Hybrid Model')\n",
        "#joblib.dump(stacked_model,'Hybrid Model.joblib')"
      ]
    },
    {
      "cell_type": "code",
      "execution_count": null,
      "metadata": {
        "id": "2CvpKJEBpDrB"
      },
      "outputs": [],
      "source": [
        "joblib.dump(stacked_model,'StackingEnsemble.joblib')"
      ]
    },
    {
      "cell_type": "code",
      "execution_count": null,
      "metadata": {
        "id": "WZAH4HgI1DzK"
      },
      "outputs": [],
      "source": [
        "# later, when you want to make predictions\n",
        "#load the model from the file\n",
        "import joblib\n",
        "loaded_model=joblib.load('StackingEnsemble.joblib')"
      ]
    },
    {
      "cell_type": "markdown",
      "metadata": {
        "id": "LdnWoN7G1klO"
      },
      "source": [
        "# Saving data for testing"
      ]
    },
    {
      "cell_type": "code",
      "execution_count": null,
      "metadata": {
        "id": "k-GA8WzP1XPV"
      },
      "outputs": [],
      "source": [
        "print(X_top_features.iloc[0])\n",
        "print(\"\\n\\noutput:\",y_top_features.iloc[0])"
      ]
    },
    {
      "cell_type": "code",
      "execution_count": null,
      "metadata": {
        "id": "1y1c40cG2NuG"
      },
      "outputs": [],
      "source": [
        "# make predictions using the loaded model\n",
        "#create a new dataframe with first row\n",
        "first_row_df=X_top_features.head(1)\n",
        "prediction=loaded_model.predict(first_row_df)\n",
        "#print the prediction\n",
        "print(f\"The predicted class is :{prediction[0]}\")"
      ]
    },
    {
      "cell_type": "code",
      "execution_count": null,
      "metadata": {
        "id": "TzEjGz8N-xl0"
      },
      "outputs": [],
      "source": [
        "print(X_top_features.iloc[1])\n",
        "print(\"\\n\\noutput:\",y_top_features.iloc[1])"
      ]
    },
    {
      "cell_type": "code",
      "execution_count": null,
      "metadata": {
        "id": "CvBTX3icAvcv"
      },
      "outputs": [],
      "source": [
        "#make prediction using the loaded model\n",
        "#create a new dataframe with the first row\n",
        "first_row_df=X_top_features.head(2).tail(1)\n",
        "prediction=loaded_model.predict(first_row_df)\n",
        "#print the prediction\n",
        "print(f\"The predicted class is :{prediction[0]}\")"
      ]
    },
    {
      "cell_type": "code",
      "execution_count": null,
      "metadata": {
        "id": "10W7VmZ6Bv-K"
      },
      "outputs": [],
      "source": [
        "first_row_df.to_csv('first_row_df.csv')"
      ]
    },
    {
      "cell_type": "code",
      "execution_count": null,
      "metadata": {
        "id": "DRcN_uI2CPq8"
      },
      "outputs": [],
      "source": [
        "first_row_df"
      ]
    },
    {
      "cell_type": "code",
      "execution_count": null,
      "metadata": {
        "id": "QIXz9VQ-CRGy"
      },
      "outputs": [],
      "source": [
        "#create a new datafram with the first row\n",
        "first_row_df=X_top_features.head(10)\n",
        "first_row_df.to_csv(\"first_x_10_row_df.csv\",index=False)\n",
        "#create a new dataframe with the first 10 row\n",
        "first_row_df=y_top_features.head(10)\n",
        "first_row_df.to_csv(\"first_y_10_row_df.csv\",index=False)"
      ]
    },
    {
      "cell_type": "code",
      "execution_count": null,
      "metadata": {
        "id": "RdcRIZvIDBiO"
      },
      "outputs": [],
      "source": [
        "#create a new datafrma with the last row\n",
        "first_row_df=X_top_features.head(-10)\n",
        "first_row_df.to_csv(\"first_x_10_df_1.csv\",index=False)\n",
        "#create a new datframe with the first row\n",
        "first_row_df=y_top_features.head(-10)\n",
        "first_row_df.to_csv(\"first_y_10_df_1.csv\",index=False)"
      ]
    },
    {
      "cell_type": "code",
      "execution_count": null,
      "metadata": {
        "id": "WPq2J4ZiD-Xb"
      },
      "outputs": [],
      "source": [
        "# Assuming X_top_features and y_top_feature are your dataframes\n",
        "middle_rows_X=X_top_features.loc[15:24]#select rows 16 to 25\n",
        "middle_rows_y=y_top_features.loc[15:24]\n",
        "\n",
        "#save the middle rows to CSV files\n",
        "middle_rows_X.to_csv(\"middle_x_10_rows.csv\",index=False)\n",
        "middle_rows_y.to_csv(\"middle_y_10_rows.csv\",index=False)"
      ]
    },
    {
      "cell_type": "code",
      "execution_count": null,
      "metadata": {
        "id": "g7Z3OHztFfgU"
      },
      "outputs": [],
      "source": [
        "#create a new dataframe with the first row\n",
        "first_row_df=X_top_features.head(1)\n",
        "first_row_df.to_csv(\"first_x_row_df.csv\",index=False)\n",
        "\n",
        "first_row_df=y_top_features.head(1)\n",
        "first_row_df.to_csv(\"first_y_row_df.csv\",index=False)"
      ]
    },
    {
      "cell_type": "code",
      "execution_count": null,
      "metadata": {
        "id": "yaSP8_q2Gehk"
      },
      "outputs": [],
      "source": [
        "#assumming X_top_features and y_top_features are your dataframes\n",
        "last_row_X=X_top_features.tail(10)\n",
        "last_row_y=y_top_features.tail(10)\n",
        "#save the last rows to the csv files\n",
        "last_row_X.to_csv(\"last_x_10_rows.csv\",index=False)\n",
        "last_row_y.to_csv(\"last_y_10_rows.csv\",index=False)"
      ]
    },
    {
      "cell_type": "markdown",
      "metadata": {
        "id": "_ceOWIASHeNH"
      },
      "source": [
        "# Live Testing"
      ]
    },
    {
      "cell_type": "code",
      "execution_count": null,
      "metadata": {
        "id": "l2GpcE1HHCJa"
      },
      "outputs": [],
      "source": [
        "# import joblib\n",
        "import pandas as pd\n",
        "#load the model from the file\n",
        "model_filename='StackingEnsemble.joblib'\n",
        "loaded_model=joblib.load(model_filename)\n",
        "#define the order and types of features manually\n",
        "feature_order=[\n",
        "    'Fwd Packet Length Max',\n",
        "    'Fwd Packet Length Mean',\n",
        "    'Bwd Packets/s',\n",
        "    'Total Length of Fwd Packets',\n",
        "    'Subflow Fwd Bytes',\n",
        "    'Flow Packets/s',\n",
        "    'Packet Length Std',\n",
        "    'Flow IAT Mean',\n",
        "    'Avg Fwd Segment Size',\n",
        "    'Flow IAT Max',\n",
        "    'Init_Win_bytes_backward',\n",
        "    'Avg Bwd Segment Size',\n",
        "    'Bwd Packet Length Mean',\n",
        "    'Flow Duration',\n",
        "    'Bwd Packet Length Std',\n",
        "    'Bwd Packet Length Max',\n",
        "    'Subflow Bwd Bytes',\n",
        "    'Total Length of Bwd Packets',\n",
        "    'Destination Port',\n",
        "    'Packet Length Variance'       ]\n"
      ]
    },
    {
      "cell_type": "code",
      "execution_count": null,
      "metadata": {
        "id": "fEz2jU3iKWeP"
      },
      "outputs": [],
      "source": [
        "#funtion to take user input and make prediction\n",
        "def make_prediction():\n",
        "    user_input = {}\n",
        "\n",
        "    # prompt the user for input for each feature\n",
        "    for column in feature_order:\n",
        "        value = input(f\"Enter value for {column}: \")\n",
        "        # convert to float (safe for most ML models)\n",
        "        user_input[column] = float(value)\n",
        "\n",
        "    # create a dataframe with the user input\n",
        "    user_data = pd.DataFrame(user_input, index=[0])\n",
        "\n",
        "    # make predictions using the loaded model\n",
        "    prediction = loaded_model.predict(user_data)\n",
        "\n",
        "    # print the prediction\n",
        "    print(f\"The predicted class is: {prediction[0]}\")\n"
      ]
    },
    {
      "cell_type": "code",
      "execution_count": null,
      "metadata": {
        "id": "YFgUQYk7KYTg"
      },
      "outputs": [],
      "source": [
        "make_prediction()"
      ]
    },
    {
      "cell_type": "markdown",
      "metadata": {
        "id": "g84w7uk1wVPh"
      },
      "source": [
        "# confusion matrix\n"
      ]
    },
    {
      "cell_type": "code",
      "execution_count": null,
      "metadata": {
        "id": "rZ-nsYWqwrXE"
      },
      "outputs": [],
      "source": [
        "\n"
      ]
    },
    {
      "cell_type": "code",
      "execution_count": null,
      "metadata": {
        "id": "kfZg4u344Ncy"
      },
      "outputs": [],
      "source": []
    },
    {
      "cell_type": "code",
      "execution_count": null,
      "metadata": {
        "id": "NojW-m8U4PxU"
      },
      "outputs": [],
      "source": []
    }
  ],
  "metadata": {
    "colab": {
      "provenance": [],
      "mount_file_id": "1ArNBwKWS3jiRVyoFMVoOK6VxRA9NXvAd",
      "authorship_tag": "ABX9TyMyLtwFBO4/zI7i94Sr3eNF",
      "include_colab_link": true
    },
    "kernelspec": {
      "display_name": "Python 3",
      "name": "python3"
    },
    "language_info": {
      "name": "python"
    }
  },
  "nbformat": 4,
  "nbformat_minor": 0
}